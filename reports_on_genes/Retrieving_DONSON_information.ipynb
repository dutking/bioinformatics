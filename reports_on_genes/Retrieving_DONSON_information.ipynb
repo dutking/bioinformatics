{
  "cells": [
    {
      "cell_type": "markdown",
      "source": [
        "<h1>Retrieving DONSON information</h1>"
      ],
      "metadata": {
        "id": "XnqTGYjUotnd"
      }
    },
    {
      "cell_type": "code",
      "source": [
        "GENE_SYM = \"DONSON\""
      ],
      "metadata": {
        "id": "v48acAIHpCiS"
      },
      "execution_count": 2,
      "outputs": []
    },
    {
      "cell_type": "markdown",
      "source": [
        "# Setup"
      ],
      "metadata": {
        "id": "ZtaSHW-KUqAa"
      }
    },
    {
      "cell_type": "code",
      "execution_count": 3,
      "metadata": {
        "id": "_jmjS2g_9Qzp",
        "colab": {
          "base_uri": "https://localhost:8080/"
        },
        "outputId": "184cbef4-ab2a-42a6-c660-12b63c19f5d4"
      },
      "outputs": [
        {
          "output_type": "stream",
          "name": "stdout",
          "text": [
            "\u001b[2K     \u001b[90m━━━━━━━━━━━━━━━━━━━━━━━━━━━━━━━━━━━━━━━━\u001b[0m \u001b[32m3.1/3.1 MB\u001b[0m \u001b[31m24.4 MB/s\u001b[0m eta \u001b[36m0:00:00\u001b[0m\n",
            "\u001b[2K     \u001b[90m━━━━━━━━━━━━━━━━━━━━━━━━━━━━━━━━━━━━━━━━\u001b[0m \u001b[32m60.3/60.3 kB\u001b[0m \u001b[31m1.6 MB/s\u001b[0m eta \u001b[36m0:00:00\u001b[0m\n",
            "\u001b[2K     \u001b[90m━━━━━━━━━━━━━━━━━━━━━━━━━━━━━━━━━━━━━━━━\u001b[0m \u001b[32m57.5/57.5 kB\u001b[0m \u001b[31m3.6 MB/s\u001b[0m eta \u001b[36m0:00:00\u001b[0m\n",
            "\u001b[2K     \u001b[90m━━━━━━━━━━━━━━━━━━━━━━━━━━━━━━━━━━━━━━━━\u001b[0m \u001b[32m75.9/75.9 kB\u001b[0m \u001b[31m1.7 MB/s\u001b[0m eta \u001b[36m0:00:00\u001b[0m\n",
            "\u001b[2K     \u001b[90m━━━━━━━━━━━━━━━━━━━━━━━━━━━━━━━━━━━━━━━━\u001b[0m \u001b[32m76.9/76.9 kB\u001b[0m \u001b[31m3.9 MB/s\u001b[0m eta \u001b[36m0:00:00\u001b[0m\n",
            "\u001b[2K     \u001b[90m━━━━━━━━━━━━━━━━━━━━━━━━━━━━━━━━━━━━━━━━\u001b[0m \u001b[32m58.3/58.3 kB\u001b[0m \u001b[31m4.9 MB/s\u001b[0m eta \u001b[36m0:00:00\u001b[0m\n",
            "\u001b[2K     \u001b[90m━━━━━━━━━━━━━━━━━━━━━━━━━━━━━━━━━━━━━━━━\u001b[0m \u001b[32m331.5/331.5 kB\u001b[0m \u001b[31m4.2 MB/s\u001b[0m eta \u001b[36m0:00:00\u001b[0m\n",
            "\u001b[?25h  Preparing metadata (setup.py) ... \u001b[?25l\u001b[?25hdone\n",
            "\u001b[2K     \u001b[90m━━━━━━━━━━━━━━━━━━━━━━━━━━━━━━━━━━━━━━━━\u001b[0m \u001b[32m40.0/40.0 kB\u001b[0m \u001b[31m2.8 MB/s\u001b[0m eta \u001b[36m0:00:00\u001b[0m\n",
            "\u001b[2K     \u001b[90m━━━━━━━━━━━━━━━━━━━━━━━━━━━━━━━━━━━━━━━━\u001b[0m \u001b[32m40.5/40.5 kB\u001b[0m \u001b[31m3.3 MB/s\u001b[0m eta \u001b[36m0:00:00\u001b[0m\n",
            "\u001b[2K     \u001b[90m━━━━━━━━━━━━━━━━━━━━━━━━━━━━━━━━━━━━━━━━\u001b[0m \u001b[32m1.6/1.6 MB\u001b[0m \u001b[31m9.7 MB/s\u001b[0m eta \u001b[36m0:00:00\u001b[0m\n",
            "\u001b[?25h  Preparing metadata (setup.py) ... \u001b[?25l\u001b[?25hdone\n",
            "\u001b[2K     \u001b[90m━━━━━━━━━━━━━━━━━━━━━━━━━━━━━━━━━━━━━━━━\u001b[0m \u001b[32m304.5/304.5 kB\u001b[0m \u001b[31m12.5 MB/s\u001b[0m eta \u001b[36m0:00:00\u001b[0m\n",
            "\u001b[2K     \u001b[90m━━━━━━━━━━━━━━━━━━━━━━━━━━━━━━━━━━━━━━━━\u001b[0m \u001b[32m137.9/137.9 kB\u001b[0m \u001b[31m12.0 MB/s\u001b[0m eta \u001b[36m0:00:00\u001b[0m\n",
            "\u001b[2K     \u001b[90m━━━━━━━━━━━━━━━━━━━━━━━━━━━━━━━━━━━━━━━━\u001b[0m \u001b[32m140.9/140.9 kB\u001b[0m \u001b[31m13.3 MB/s\u001b[0m eta \u001b[36m0:00:00\u001b[0m\n",
            "\u001b[?25h  Building wheel for ncbi-datasets-pylib (setup.py) ... \u001b[?25l\u001b[?25hdone\n",
            "  Building wheel for gffutils (setup.py) ... \u001b[?25l\u001b[?25hdone\n",
            "\u001b[31mERROR: pip's dependency resolver does not currently take into account all the packages that are installed. This behaviour is the source of the following dependency conflicts.\n",
            "lida 0.0.10 requires fastapi, which is not installed.\n",
            "lida 0.0.10 requires kaleido, which is not installed.\n",
            "lida 0.0.10 requires python-multipart, which is not installed.\n",
            "lida 0.0.10 requires uvicorn, which is not installed.\n",
            "tensorflow-metadata 1.14.0 requires protobuf<4.21,>=3.20.3, but you have protobuf 4.23.0 which is incompatible.\u001b[0m\u001b[31m\n",
            "\u001b[0m"
          ]
        }
      ],
      "source": [
        "%pip install biopython --quiet\n",
        "%pip install pybiomart --quiet\n",
        "%pip install biomart --quiet\n",
        "%pip install httpx --quiet\n",
        "# https://pypi.org/project/ncbi-datasets-pylib/\n",
        "# https://www.ncbi.nlm.nih.gov/datasets/docs/v1/languages/python/\n",
        "%pip install ncbi-datasets-pylib --quiet"
      ]
    },
    {
      "cell_type": "code",
      "source": [
        "import polars as pl\n",
        "import httpx\n",
        "from Bio import Entrez\n",
        "from Bio import SeqIO\n",
        "from pybiomart import Server\n",
        "from biomart import BiomartServer\n",
        "from google.colab import userdata\n",
        "\n",
        "import ncbi.datasets.openapi\n",
        "from ncbi.datasets.openapi.api import gene_api\n",
        "from ncbi.datasets.openapi.models import V1GeneMatch\n",
        "from ncbi.datasets.openapi import ApiException as DatasetsApiException\n",
        "\n",
        "from IPython.display import HTML, display\n",
        "pl.Config.set_fmt_str_lengths(100)\n",
        "def set_css():\n",
        "  display(HTML('''\n",
        "  <style>\n",
        "    pre {\n",
        "        white-space: pre-wrap;\n",
        "    }\n",
        "  </style>\n",
        "  '''))\n",
        "get_ipython().events.register('pre_run_cell', set_css)"
      ],
      "metadata": {
        "id": "DD7sQDMOdzRL"
      },
      "execution_count": 4,
      "outputs": []
    },
    {
      "cell_type": "markdown",
      "source": [
        "# NCBI\n",
        "Here we get RefSeq accession number based on gene symbol and retrieve information form the database."
      ],
      "metadata": {
        "id": "evpWu5Je8g16"
      }
    },
    {
      "cell_type": "code",
      "source": [
        "Entrez.email = \"dutking@gmail.com\"\n",
        "\n",
        "def get_gene_record_from_entrez(gene_symbol: str, organism: str=\"Homo sapiens\") -> list[str]:\n",
        "    \"\"\"\n",
        "    Fetches the RefSeq accession numbers for a given gene symbol.\n",
        "\n",
        "    Arguments:\n",
        "    param gene_symbol: str\n",
        "    The symbol of the gene (e.g., \"BRCA1\").\n",
        "\n",
        "    param organism: str\n",
        "    The name of the organism (default is \"Homo sapiens\").\n",
        "\n",
        "    return: list\n",
        "    A gene record from Entrez.efetch.\n",
        "    \"\"\"\n",
        "\n",
        "    query = f\"{gene_symbol}[Gene Name] AND {organism}[Organism]\"\n",
        "    with Entrez.esearch(db=\"gene\", term=query, retmax=5) as search_handle:\n",
        "      search_results = Entrez.read(search_handle)\n",
        "\n",
        "    gene_ids = search_results.get(\"IdList\")\n",
        "\n",
        "    for gene_id in gene_ids:\n",
        "        print(f'GeneID: {gene_id}')\n",
        "        print('='*10)\n",
        "        with Entrez.efetch(db=\"gene\", id=gene_id, retmode=\"xml\") as fetch_handle:\n",
        "          gene_records = Entrez.read(fetch_handle)\n",
        "          return gene_records\n",
        "\n",
        "\n",
        "def get_refseq_accessions(gene_records) -> list[str]:\n",
        "    \"\"\"\n",
        "    Fetches the RefSeq accession numbers for a given gene symbol.\n",
        "\n",
        "    Arguments:\n",
        "    gene_records: Bio.Entrez.Parser.ListElement\n",
        "    List returned by Entrez.efetch\n",
        "\n",
        "    return: list\n",
        "    A list of RefSeq accession numbers.\n",
        "    \"\"\"\n",
        "\n",
        "    refseq_accessions = []\n",
        "\n",
        "    for gene_record in gene_records:\n",
        "        if 'Entrezgene_locus' in gene_record:\n",
        "            for commentary in gene_record['Entrezgene_locus']:\n",
        "                if 'Gene-commentary_products' in commentary:\n",
        "                    for product in commentary['Gene-commentary_products']:\n",
        "                        if 'Gene-commentary_accession' in product:\n",
        "                            refseq_accessions.append(product['Gene-commentary_accession'])\n",
        "    return refseq_accessions\n",
        "\n",
        "\n",
        "\n",
        "def get_gene_information(gene_record: V1GeneMatch) -> dict:\n",
        "    \"\"\"\n",
        "    Retrieves gene information from the NCBI Datasets API.\n",
        "\n",
        "    Arguments:\n",
        "    gene_record: V1GeneMatch\n",
        "    A gene record from the NCBI Datasets API.\n",
        "\n",
        "    return: dict\n",
        "    A dictionary of gene information.\n",
        "    \"\"\"\n",
        "\n",
        "    print(\"query\", gene_record.query)\n",
        "\n",
        "    if gene_record.warnings:\n",
        "        print(gene_record.warnings)\n",
        "    if gene_record.errors:\n",
        "        print(gene_record.errors)\n",
        "\n",
        "    if gene_record.gene:\n",
        "        gene_dictionary = gene_record.gene.to_dict()\n",
        "        return gene_dictionary\n",
        "    else:\n",
        "        print(f\"No gene found for {gene_record.query}\")"
      ],
      "metadata": {
        "colab": {
          "base_uri": "https://localhost:8080/",
          "height": 17
        },
        "id": "0BS342EqjPMx",
        "outputId": "e4acd6e8-489c-4dd0-ad30-1ce961a0259e"
      },
      "execution_count": 6,
      "outputs": [
        {
          "output_type": "display_data",
          "data": {
            "text/plain": [
              "<IPython.core.display.HTML object>"
            ],
            "text/html": [
              "\n",
              "  <style>\n",
              "    pre {\n",
              "        white-space: pre-wrap;\n",
              "    }\n",
              "  </style>\n",
              "  "
            ]
          },
          "metadata": {}
        }
      ]
    },
    {
      "cell_type": "code",
      "source": [
        "gene_record = get_gene_record_from_entrez(gene_symbol=GENE_SYM, organism=\"Homo sapiens\")\n",
        "gene_accessions = list(set(get_refseq_accessions(gene_record)))\n",
        "if gene_accessions:\n",
        "    print(f\"RefSeq Accession numbers for {GENE_SYM}: {', '.join(gene_accessions)}\")\n",
        "else:\n",
        "    print(f\"No RefSeq Accession numbers found for {GENE_SYM}\")"
      ],
      "metadata": {
        "colab": {
          "base_uri": "https://localhost:8080/",
          "height": 71
        },
        "id": "Dmn32JAodV4y",
        "outputId": "672c986a-46e9-4a6d-8222-7204647220f4"
      },
      "execution_count": 7,
      "outputs": [
        {
          "output_type": "display_data",
          "data": {
            "text/plain": [
              "<IPython.core.display.HTML object>"
            ],
            "text/html": [
              "\n",
              "  <style>\n",
              "    pre {\n",
              "        white-space: pre-wrap;\n",
              "    }\n",
              "  </style>\n",
              "  "
            ]
          },
          "metadata": {}
        },
        {
          "output_type": "stream",
          "name": "stdout",
          "text": [
            "GeneID: 29980\n",
            "==========\n",
            "RefSeq Accession numbers for DONSON: NM_017613\n"
          ]
        }
      ]
    },
    {
      "cell_type": "code",
      "source": [
        "configuration = ncbi.datasets.openapi.Configuration(\n",
        "    host = \"https://api.ncbi.nlm.nih.gov/datasets/v1\"\n",
        ")\n",
        "\n",
        "configuration.api_key['ApiKeyAuthHeader'] = userdata.get('NCBI_API_SECRET_KEY')\n",
        "\n",
        "# configuration.api_key_prefix['ApiKeyAuthHeader'] = 'Bearer'\n",
        "\n",
        "with ncbi.datasets.openapi.ApiClient(configuration) as api_client:\n",
        "    api_instance = gene_api.GeneApi(api_client)\n",
        "\n",
        "    try:\n",
        "        gene_reply = api_instance.gene_metadata_by_accession(gene_accessions)\n",
        "        for gene in gene_reply.genes:\n",
        "            ncbi_gene_data = get_gene_information(gene)\n",
        "    except DatasetsApiException as e:\n",
        "        print(f\"Exception when calling GeneApi: {e}\\n\")"
      ],
      "metadata": {
        "colab": {
          "base_uri": "https://localhost:8080/",
          "height": 124
        },
        "id": "KlObml12k4vO",
        "outputId": "18c7aeb5-2234-469d-8054-c5eb49135768"
      },
      "execution_count": 8,
      "outputs": [
        {
          "output_type": "display_data",
          "data": {
            "text/plain": [
              "<IPython.core.display.HTML object>"
            ],
            "text/html": [
              "\n",
              "  <style>\n",
              "    pre {\n",
              "        white-space: pre-wrap;\n",
              "    }\n",
              "  </style>\n",
              "  "
            ]
          },
          "metadata": {}
        },
        {
          "output_type": "stream",
          "name": "stdout",
          "text": [
            "query ['NM_017613']\n",
            "[{'gene_warning_code': 'ACCESSION_VERSION_MISMATCH',\n",
            " 'message': 'The current accession.version will be returned.',\n",
            " 'reason': 'The accession.version you requested is no longer current or '\n",
            "           'otherwise unrecognized.',\n",
            " 'replaced_id': {'requested': 'NM_017613', 'returned': 'NM_017613.4'}}]\n"
          ]
        }
      ]
    },
    {
      "cell_type": "code",
      "source": [
        "for k, v in ncbi_gene_data.items():\n",
        "    print(f\"{k}: {v}\", end='\\n\\n')"
      ],
      "metadata": {
        "colab": {
          "base_uri": "https://localhost:8080/",
          "height": 1000
        },
        "id": "DavwzdLpmo3u",
        "outputId": "39e279b4-be83-42cf-f59b-c3e18dc64bc7"
      },
      "execution_count": 9,
      "outputs": [
        {
          "output_type": "display_data",
          "data": {
            "text/plain": [
              "<IPython.core.display.HTML object>"
            ],
            "text/html": [
              "\n",
              "  <style>\n",
              "    pre {\n",
              "        white-space: pre-wrap;\n",
              "    }\n",
              "  </style>\n",
              "  "
            ]
          },
          "metadata": {}
        },
        {
          "output_type": "stream",
          "name": "stdout",
          "text": [
            "gene_id: 29980\n",
            "\n",
            "symbol: DONSON\n",
            "\n",
            "description: DNA replication fork stabilization factor DONSON\n",
            "\n",
            "tax_id: 9606\n",
            "\n",
            "taxname: Homo sapiens\n",
            "\n",
            "type: PROTEIN_CODING\n",
            "\n",
            "orientation: minus\n",
            "\n",
            "genomic_ranges: [{'accession_version': 'NC_000021.9', 'range': [{'begin': '33577551', 'end': '33588684', 'orientation': 'minus'}]}, {'accession_version': 'NC_060945.1', 'range': [{'begin': '31959392', 'end': '31970473', 'orientation': 'minus'}]}]\n",
            "\n",
            "transcripts: [{'accession_version': 'NM_017613.4', 'length': 2500, 'genomic_range': {'accession_version': 'NC_000021.9', 'range': [{'begin': '33577551', 'end': '33588684', 'orientation': 'minus'}]}, 'exons': {'accession_version': 'NC_000021.9', 'range': [{'begin': '33588321', 'end': '33588684', 'order': 1}, {'begin': '33587522', 'end': '33587602', 'order': 2}, {'begin': '33585978', 'end': '33586181', 'order': 3}, {'begin': '33584590', 'end': '33584768', 'order': 4}, {'begin': '33583488', 'end': '33583666', 'order': 5}, {'begin': '33582165', 'end': '33582246', 'order': 6}, {'begin': '33581951', 'end': '33582055', 'order': 7}, {'begin': '33581302', 'end': '33581500', 'order': 8}, {'begin': '33579350', 'end': '33579562', 'order': 9}, {'begin': '33577551', 'end': '33578444', 'order': 10}]}, 'cds': {'accession_version': 'NM_017613.4', 'range': [{'begin': '44', 'end': '1744'}]}, 'genomic_locations': [{'genomic_accession_version': 'NC_000021.9', 'sequence_name': 'Chromosome 21 Reference GRCh38.p14 Primary Assembly', 'genomic_range': {'begin': '33577551', 'end': '33588684', 'orientation': 'minus'}, 'exons': [{'begin': '33588321', 'end': '33588684', 'order': 1}, {'begin': '33587522', 'end': '33587602', 'order': 2}, {'begin': '33585978', 'end': '33586181', 'order': 3}, {'begin': '33584590', 'end': '33584768', 'order': 4}, {'begin': '33583488', 'end': '33583666', 'order': 5}, {'begin': '33582165', 'end': '33582246', 'order': 6}, {'begin': '33581951', 'end': '33582055', 'order': 7}, {'begin': '33581302', 'end': '33581500', 'order': 8}, {'begin': '33579350', 'end': '33579562', 'order': 9}, {'begin': '33577551', 'end': '33578444', 'order': 10}]}, {'genomic_accession_version': 'NC_060945.1', 'sequence_name': 'Chromosome 21 Alternate T2T-CHM13v2.0', 'genomic_range': {'begin': '31959392', 'end': '31970473', 'orientation': 'minus'}, 'exons': [{'begin': '31970110', 'end': '31970473', 'order': 1}, {'begin': '31969311', 'end': '31969391', 'order': 2}, {'begin': '31967767', 'end': '31967970', 'order': 3}, {'begin': '31966379', 'end': '31966557', 'order': 4}, {'begin': '31965279', 'end': '31965457', 'order': 5}, {'begin': '31963956', 'end': '31964037', 'order': 6}, {'begin': '31963742', 'end': '31963846', 'order': 7}, {'begin': '31963093', 'end': '31963291', 'order': 8}, {'begin': '31961142', 'end': '31961354', 'order': 9}, {'begin': '31959392', 'end': '31960237', 'order': 10}]}], 'ensembl_transcript': 'ENST00000303071.10', 'protein': {'accession_version': 'NP_060083.1', 'name': 'protein downstream neighbor of Son', 'length': 566, 'ensembl_protein': 'ENSP00000307143.4'}, 'type': 'PROTEIN_CODING'}]\n",
            "\n",
            "common_name: human\n",
            "\n",
            "chromosomes: ['21']\n",
            "\n",
            "nomenclature_authority: {'authority': 'HGNC', 'identifier': 'HGNC:2993'}\n",
            "\n",
            "swiss_prot_accessions: ['Q9NYP3']\n",
            "\n",
            "ensembl_gene_ids: ['ENSG00000159147']\n",
            "\n",
            "omim_ids: ['611428']\n",
            "\n",
            "synonyms: ['B17', 'MIMIS', 'MISSLA', 'C21orf60']\n",
            "\n",
            "annotations: [{'release_name': 'GCF_000001405.40-RS_2023_10', 'release_date': '2023-10-02', 'assemblies_in_scope': [{'accession': 'GCF_000001405.40', 'name': 'GRCh38.p14'}]}, {'release_name': 'GCF_009914755.1-RS_2023_10', 'release_date': '2023-10-02', 'assemblies_in_scope': [{'accession': 'GCF_009914755.1', 'name': 'T2T-CHM13v2.0'}]}]\n",
            "\n",
            "gene_groups: [{'id': '29980', 'method': 'NCBI Ortholog'}]\n",
            "\n"
          ]
        }
      ]
    },
    {
      "cell_type": "markdown",
      "source": [
        "# MyGene"
      ],
      "metadata": {
        "id": "I7JAXm1sufd9"
      }
    },
    {
      "cell_type": "code",
      "source": [
        "!pip install mygene --quiet\n",
        "from mygene import MyGeneInfo"
      ],
      "metadata": {
        "id": "EDmJaTPxvKA8",
        "colab": {
          "base_uri": "https://localhost:8080/",
          "height": 17
        },
        "outputId": "c5768103-ebdb-4b5e-b7d7-4d8ef394eb8d"
      },
      "execution_count": 10,
      "outputs": [
        {
          "output_type": "display_data",
          "data": {
            "text/plain": [
              "<IPython.core.display.HTML object>"
            ],
            "text/html": [
              "\n",
              "  <style>\n",
              "    pre {\n",
              "        white-space: pre-wrap;\n",
              "    }\n",
              "  </style>\n",
              "  "
            ]
          },
          "metadata": {}
        }
      ]
    },
    {
      "cell_type": "code",
      "source": [
        "mg = MyGeneInfo()\n",
        "mg_query = mg.querymany(\n",
        "    qterms=[GENE_SYM],\n",
        "    scopes=\"symbol\",\n",
        "    species='human',\n",
        "    as_dataframe=False,\n",
        "    df_index=True,\n",
        "    fields='all'\n",
        ")\n"
      ],
      "metadata": {
        "colab": {
          "base_uri": "https://localhost:8080/",
          "height": 71
        },
        "id": "ns-5BrMLvLiM",
        "outputId": "c8833524-c9b7-4ecd-e514-5dfec57d003d"
      },
      "execution_count": 11,
      "outputs": [
        {
          "output_type": "display_data",
          "data": {
            "text/plain": [
              "<IPython.core.display.HTML object>"
            ],
            "text/html": [
              "\n",
              "  <style>\n",
              "    pre {\n",
              "        white-space: pre-wrap;\n",
              "    }\n",
              "  </style>\n",
              "  "
            ]
          },
          "metadata": {}
        },
        {
          "output_type": "stream",
          "name": "stderr",
          "text": [
            "INFO:biothings.client:querying 1-1...\n",
            "INFO:biothings.client:done.\n",
            "INFO:biothings.client:Finished.\n"
          ]
        }
      ]
    },
    {
      "cell_type": "markdown",
      "source": [
        "## General data on DONSON"
      ],
      "metadata": {
        "id": "W0oHaC-a2EWZ"
      }
    },
    {
      "cell_type": "code",
      "source": [
        "print(mg_query[0]['name'])\n",
        "print(mg_query[0]['summary'])"
      ],
      "metadata": {
        "colab": {
          "base_uri": "https://localhost:8080/",
          "height": 53
        },
        "id": "usrGSy672H-G",
        "outputId": "f08ee717-d723-48f8-d05c-5ad07aec42ef"
      },
      "execution_count": 12,
      "outputs": [
        {
          "output_type": "display_data",
          "data": {
            "text/plain": [
              "<IPython.core.display.HTML object>"
            ],
            "text/html": [
              "\n",
              "  <style>\n",
              "    pre {\n",
              "        white-space: pre-wrap;\n",
              "    }\n",
              "  </style>\n",
              "  "
            ]
          },
          "metadata": {}
        },
        {
          "output_type": "stream",
          "name": "stdout",
          "text": [
            "DNA replication fork stabilization factor DONSON\n",
            "This gene lies downstream of the SON gene and spans 10 kb on chromosome 21. The function of this gene is unknown. [provided by RefSeq, Jul 2008].\n"
          ]
        }
      ]
    },
    {
      "cell_type": "markdown",
      "source": [
        "## GO terms"
      ],
      "metadata": {
        "id": "nISBqg342YAf"
      }
    },
    {
      "cell_type": "markdown",
      "source": [
        "### Biological processes"
      ],
      "metadata": {
        "id": "gQBTiREN2bOr"
      }
    },
    {
      "cell_type": "code",
      "source": [
        "bp_terms = mg_query[0]['go']['BP']\n",
        "if isinstance(bp_terms, list):\n",
        "    for i in bp_terms:\n",
        "        print(f\"{i['qualifier'].replace('_', ' ')} {i['term']}\")\n",
        "else:\n",
        "    print(f\"{bp_terms['qualifier'].replace('_', ' ')} {bp_terms['term']}\")"
      ],
      "metadata": {
        "colab": {
          "base_uri": "https://localhost:8080/",
          "height": 124
        },
        "id": "DwG6-hcq2gbD",
        "outputId": "cefb4f97-571b-4c9f-c371-486dc3b82a25"
      },
      "execution_count": 13,
      "outputs": [
        {
          "output_type": "display_data",
          "data": {
            "text/plain": [
              "<IPython.core.display.HTML object>"
            ],
            "text/html": [
              "\n",
              "  <style>\n",
              "    pre {\n",
              "        white-space: pre-wrap;\n",
              "    }\n",
              "  </style>\n",
              "  "
            ]
          },
          "metadata": {}
        },
        {
          "output_type": "stream",
          "name": "stdout",
          "text": [
            "involved in DNA damage checkpoint signaling\n",
            "involved in DNA replication\n",
            "involved in mitotic G2 DNA damage checkpoint signaling\n",
            "involved in replication fork processing\n",
            "involved in nuclear DNA replication\n",
            "involved in mitotic DNA replication checkpoint signaling\n"
          ]
        }
      ]
    },
    {
      "cell_type": "markdown",
      "source": [
        "### Cellular components"
      ],
      "metadata": {
        "id": "ijVpN5913EJw"
      }
    },
    {
      "cell_type": "code",
      "source": [
        "cc_terms = mg_query[0]['go']['CC']\n",
        "if isinstance(cc_terms, list):\n",
        "    for i in cc_terms:\n",
        "        print(f\"{i['qualifier'].replace('_', ' ')} {i['term']}\")\n",
        "else:\n",
        "    print(f\"{cc_terms['qualifier'].replace('_', ' ')} {cc_terms['term']}\")"
      ],
      "metadata": {
        "colab": {
          "base_uri": "https://localhost:8080/",
          "height": 88
        },
        "id": "JKIxttFX3JEZ",
        "outputId": "d9254039-41d8-4c38-a806-5a2745dd4dd0"
      },
      "execution_count": 14,
      "outputs": [
        {
          "output_type": "display_data",
          "data": {
            "text/plain": [
              "<IPython.core.display.HTML object>"
            ],
            "text/html": [
              "\n",
              "  <style>\n",
              "    pre {\n",
              "        white-space: pre-wrap;\n",
              "    }\n",
              "  </style>\n",
              "  "
            ]
          },
          "metadata": {}
        },
        {
          "output_type": "stream",
          "name": "stdout",
          "text": [
            "is active in nucleus\n",
            "located in nucleus\n",
            "located in replication fork\n",
            "part of replisome\n"
          ]
        }
      ]
    },
    {
      "cell_type": "markdown",
      "source": [
        "### Molecular functions"
      ],
      "metadata": {
        "id": "ouCpVyx63YW-"
      }
    },
    {
      "cell_type": "code",
      "source": [
        "mf_terms = mg_query[0]['go']['MF']\n",
        "if isinstance(mf_terms, list):\n",
        "    for i in mf_terms:\n",
        "        print(f\"{i['qualifier'].replace('_', ' ')} {i['term']}\")\n",
        "else:\n",
        "    print(f\"{mf_terms['qualifier'].replace('_', ' ')} {mf_terms['term']}\")"
      ],
      "metadata": {
        "colab": {
          "base_uri": "https://localhost:8080/",
          "height": 35
        },
        "id": "yJB0DwIN3ddn",
        "outputId": "8cc767f2-bde9-4dd7-a163-46537a0f36f6"
      },
      "execution_count": 15,
      "outputs": [
        {
          "output_type": "display_data",
          "data": {
            "text/plain": [
              "<IPython.core.display.HTML object>"
            ],
            "text/html": [
              "\n",
              "  <style>\n",
              "    pre {\n",
              "        white-space: pre-wrap;\n",
              "    }\n",
              "  </style>\n",
              "  "
            ]
          },
          "metadata": {}
        },
        {
          "output_type": "stream",
          "name": "stdout",
          "text": [
            "enables protein binding\n"
          ]
        }
      ]
    },
    {
      "cell_type": "markdown",
      "source": [
        "## Publications"
      ],
      "metadata": {
        "id": "30h5z57K4aCs"
      }
    },
    {
      "cell_type": "code",
      "source": [
        "pubs = mg_query[0]['generif']\n",
        "print(f\"{len(pubs)} publications on {GENE_SYM} in PubMed:\", end=\"\\n\\n\")\n",
        "for idx, pub in enumerate(pubs, start=1):\n",
        "    print(f\"{idx}. {pub['text']}\", end='\\n\\n')"
      ],
      "metadata": {
        "colab": {
          "base_uri": "https://localhost:8080/",
          "height": 428
        },
        "id": "xTQIH6wV0R33",
        "outputId": "994f85ac-e087-4543-d4e4-e6daee01125b"
      },
      "execution_count": 16,
      "outputs": [
        {
          "output_type": "display_data",
          "data": {
            "text/plain": [
              "<IPython.core.display.HTML object>"
            ],
            "text/html": [
              "\n",
              "  <style>\n",
              "    pre {\n",
              "        white-space: pre-wrap;\n",
              "    }\n",
              "  </style>\n",
              "  "
            ]
          },
          "metadata": {}
        },
        {
          "output_type": "stream",
          "name": "stdout",
          "text": [
            "9 publications on DONSON in PubMed:\n",
            "\n",
            "1. Aberrant splicing and a noncoding mutation in DONSON gene is the cause of microcephaly-micromelia syndrome\n",
            "\n",
            "2. we present the clinical data of siblings with microcephaly, short stature, and limb abnormalities syndrome (MISSLA) featuring a novel DONSON variant and summarize the current literature on MISSLA.\n",
            "\n",
            "3. four unrelated families with five affected individuals having biallelic or de novo variants in DONSON presenting with a core phenotype of severe short stature (z score < -3 SD), additional skeletal abnormalities, and microcephaly, were identified.\n",
            "\n",
            "4. Linked-read genome sequencing identifies biallelic pathogenic variants in DONSON as a novel cause of Meier-Gorlin syndrome.\n",
            "\n",
            "5. the antitumor miR-101-5p/DONSON axis and its modulated replisome genes might be a novel diagnostic and therapeutic target for clear cell renal cell carcinoma\n",
            "\n",
            "6. Circ-DONSON promotes malignant progression of glioma through modulating FOXO3.\n",
            "\n",
            "7. DONSON and FANCM associate with different replisomes distinguished by replication timing and chromatin domain.\n",
            "\n",
            "8. Novel role of DONSON in CMG helicase assembly during vertebrate DNA replication initiation.\n",
            "\n",
            "9. DONSON is required for CMG helicase assembly in the mammalian cell cycle.\n",
            "\n"
          ]
        }
      ]
    },
    {
      "cell_type": "markdown",
      "source": [
        "# UniProt"
      ],
      "metadata": {
        "id": "Al5jHVnrAnQS"
      }
    },
    {
      "cell_type": "code",
      "source": [
        "def query_uniprot(gene_symbol: str) -> dict:\n",
        "    \"\"\"\n",
        "    Queries UniProt for gene information.\n",
        "\n",
        "    Arguments:\n",
        "    gene_symbol: str\n",
        "    The gene symbol to query.\n",
        "\n",
        "    return: dict\n",
        "    A dictionary of gene information.\n",
        "    \"\"\"\n",
        "\n",
        "    url = 'https://rest.uniprot.org/uniprotkb/stream'\n",
        "    query = {\n",
        "        'gene': gene_symbol,\n",
        "        'organism_id': 9606,\n",
        "        'reviewed':'true'\n",
        "    }\n",
        "    query_string = ' AND '.join([f\"{k}:{v}\" for (k,v) in query.items()])\n",
        "    params = {'query': query_string, 'format': 'json'}\n",
        "    res = httpx.get(url, params=params)\n",
        "    return res.json()"
      ],
      "metadata": {
        "colab": {
          "base_uri": "https://localhost:8080/",
          "height": 17
        },
        "id": "OVBo93YyAsAa",
        "outputId": "fa2f6fc2-0bf7-4e5d-b1a7-e1dd5e45eef0"
      },
      "execution_count": 17,
      "outputs": [
        {
          "output_type": "display_data",
          "data": {
            "text/plain": [
              "<IPython.core.display.HTML object>"
            ],
            "text/html": [
              "\n",
              "  <style>\n",
              "    pre {\n",
              "        white-space: pre-wrap;\n",
              "    }\n",
              "  </style>\n",
              "  "
            ]
          },
          "metadata": {}
        }
      ]
    },
    {
      "cell_type": "code",
      "source": [
        "uniprot_data = query_uniprot(GENE_SYM)\n",
        "for comment in uniprot_data['results'][0]['comments']:\n",
        "    if 'texts' in comment.keys():\n",
        "        print(comment['commentType'])\n",
        "        for text in comment['texts']:\n",
        "            print(text['value'], end='\\n\\n')"
      ],
      "metadata": {
        "colab": {
          "base_uri": "https://localhost:8080/",
          "height": 624
        },
        "id": "58c0w_0CZVZo",
        "outputId": "91903234-8fbc-41b1-f0f0-d0bd42aec245"
      },
      "execution_count": 18,
      "outputs": [
        {
          "output_type": "display_data",
          "data": {
            "text/plain": [
              "<IPython.core.display.HTML object>"
            ],
            "text/html": [
              "\n",
              "  <style>\n",
              "    pre {\n",
              "        white-space: pre-wrap;\n",
              "    }\n",
              "  </style>\n",
              "  "
            ]
          },
          "metadata": {}
        },
        {
          "output_type": "stream",
          "name": "stdout",
          "text": [
            "FUNCTION\n",
            "Replisome component that maintains genome stability by protecting stalled or damaged replication forks. After the induction of replication stress, required for the stabilization of stalled replication forks, the efficient activation of the intra-S-phase and G/2M cell-cycle checkpoints and the maintenance of genome stability\n",
            "\n",
            "SUBUNIT\n",
            "Component of the replisome complex composed of at least DONSON, MCM2, MCM7, PCNA and TICRR; interaction at least with PCNA occurs during DNA replication\n",
            "\n",
            "TISSUE SPECIFICITY\n",
            "Expressed in the brain, with higher levels in prenatal compared to adult brain\n",
            "\n",
            "DEVELOPMENTAL STAGE\n",
            "Expressed during embryonic development. At Carnegie stage 22 (about 7.5 weeks gestation), expressed in numerous tissues, including brain, heart, lung, gastrointestinal tract, kidney, hind limb and forelimb digits. Similar expression is observed at 9 weeks of gestation. In the brain of a 9-week old fetus, prominently expressed in the neocortex subventricular zone and in the cortical plate and also detected in the ganglionic eminences. At 12 weeks of gestation, expression in the fetal brain is prominent in the basal ganglia and the ventricular and subventricular zones and cortical plate of the neocortex, mesencephalon, and rhombencephalon. At 15 and 16 weeks, highly expressed in the ventricular and subventricular zones, respectively. Highly expressed in the ganglionic eminence of 15 week-old brain and subplate of 16 week-old brain. At 20 weeks of gestation, expressed in the ventricular and subventricular zones, intermediate zone, and cortical plate of the neocortex. At 21 weeks of gestation, expressed in the neocortex with highest levels in the cortical plate\n",
            "\n",
            "INDUCTION\n",
            "Expression is cell-cycle dependent with highest levels during S phase\n",
            "\n",
            "MISCELLANEOUS\n",
            "May be produced at very low levels due to a premature stop codon in the mRNA, leading to nonsense-mediated mRNA decay\n",
            "\n",
            "MISCELLANEOUS\n",
            "May be produced at very low levels due to a premature stop codon in the mRNA, leading to nonsense-mediated mRNA decay\n",
            "\n",
            "SIMILARITY\n",
            "Belongs to the DONSON family\n",
            "\n"
          ]
        }
      ]
    }
  ],
  "metadata": {
    "colab": {
      "provenance": [],
      "toc_visible": true
    },
    "kernelspec": {
      "display_name": "Python 3",
      "name": "python3"
    },
    "language_info": {
      "name": "python"
    }
  },
  "nbformat": 4,
  "nbformat_minor": 0
}