{
  "nbformat": 4,
  "nbformat_minor": 0,
  "metadata": {
    "colab": {
      "provenance": []
    },
    "kernelspec": {
      "name": "python3",
      "display_name": "Python 3"
    },
    "language_info": {
      "name": "python"
    }
  },
  "cells": [
    {
      "cell_type": "code",
      "execution_count": 1,
      "metadata": {
        "id": "ngKLAgbtJbwq"
      },
      "outputs": [],
      "source": [
        "import polars as pl\n",
        "import pandas as pd\n",
        "import numpy as np\n",
        "import matplotlib.pyplot as plt\n",
        "from scipy import stats\n",
        "import seaborn as sns\n",
        "\n",
        "%matplotlib inline"
      ]
    },
    {
      "cell_type": "markdown",
      "source": [
        "<h1>Analysis of categorical data - Chi-Square tests</h1>"
      ],
      "metadata": {
        "id": "tIcy4IDW9OLS"
      }
    },
    {
      "cell_type": "markdown",
      "source": [
        "The Chi-Square test uses the following formula to give statistical output:\n",
        "\n",
        "$$\\chi_v^2=\\sum_{i=1}^{n}\\frac{(O_i-E_i)^2}{E_i}$$\n",
        "\n",
        "Where:\n",
        "- _v_ denotes the degree of freedom\n",
        "- _O_ implies the sample observed values\n",
        "- _E_ stands for the population expected values\n",
        "- _n_ indicates the variable category counts"
      ],
      "metadata": {
        "id": "v6L5Kzvdeqjt"
      }
    },
    {
      "cell_type": "markdown",
      "source": [],
      "metadata": {
        "id": "mGMVh2wvHJHq"
      }
    },
    {
      "cell_type": "markdown",
      "source": [
        "# Contigency table"
      ],
      "metadata": {
        "id": "POi5z2c6jltY"
      }
    },
    {
      "cell_type": "markdown",
      "source": [
        "A contingency table displays sample values in relation to two different variables that may be dependent or contingent on one another."
      ],
      "metadata": {
        "id": "D1p2I3m_oSGf"
      }
    },
    {
      "cell_type": "markdown",
      "source": [
        "|Categories|Group 1|Group 2| Row total|\n",
        "|---       |:---:  |:---:  |:---:     |\n",
        "|category 1|a.     |c.     |a+c.      |\n",
        "|category 2|b.     |d.     |b+d.      |\n",
        "|column total|a+b. |c+d.   |a+b+c+d=n |\n"
      ],
      "metadata": {
        "id": "uy8uKWcrYeit"
      }
    },
    {
      "cell_type": "markdown",
      "source": [
        "Creating contigency tables from raw data:"
      ],
      "metadata": {
        "id": "ZQnRvVKP1Y9N"
      }
    },
    {
      "cell_type": "code",
      "source": [
        "initial_data = pd.DataFrame({'Gender' : ['M', 'M', 'M', 'F', 'F'] * 10,\n",
        "                   'isSmoker' : ['Smoker', 'Smoker', 'Non-Smoker', 'Non-Smoker', 'Smoker'] * 10\n",
        "                  })\n",
        "\n",
        "contigency_table = pd.crosstab(initial_data['Gender'], initial_data['isSmoker']) # normalize='all' 'index' 'columns' to get percentages\n",
        "contigency_table"
      ],
      "metadata": {
        "colab": {
          "base_uri": "https://localhost:8080/",
          "height": 143
        },
        "id": "HgcROQV_1XEw",
        "outputId": "6f572777-0678-42ee-9971-f74d758d075a"
      },
      "execution_count": 2,
      "outputs": [
        {
          "output_type": "execute_result",
          "data": {
            "text/plain": [
              "isSmoker  Non-Smoker  Smoker\n",
              "Gender                      \n",
              "F                 10      10\n",
              "M                 10      20"
            ],
            "text/html": [
              "\n",
              "  <div id=\"df-35010deb-cb90-49bf-823f-e72f7d03bc53\" class=\"colab-df-container\">\n",
              "    <div>\n",
              "<style scoped>\n",
              "    .dataframe tbody tr th:only-of-type {\n",
              "        vertical-align: middle;\n",
              "    }\n",
              "\n",
              "    .dataframe tbody tr th {\n",
              "        vertical-align: top;\n",
              "    }\n",
              "\n",
              "    .dataframe thead th {\n",
              "        text-align: right;\n",
              "    }\n",
              "</style>\n",
              "<table border=\"1\" class=\"dataframe\">\n",
              "  <thead>\n",
              "    <tr style=\"text-align: right;\">\n",
              "      <th>isSmoker</th>\n",
              "      <th>Non-Smoker</th>\n",
              "      <th>Smoker</th>\n",
              "    </tr>\n",
              "    <tr>\n",
              "      <th>Gender</th>\n",
              "      <th></th>\n",
              "      <th></th>\n",
              "    </tr>\n",
              "  </thead>\n",
              "  <tbody>\n",
              "    <tr>\n",
              "      <th>F</th>\n",
              "      <td>10</td>\n",
              "      <td>10</td>\n",
              "    </tr>\n",
              "    <tr>\n",
              "      <th>M</th>\n",
              "      <td>10</td>\n",
              "      <td>20</td>\n",
              "    </tr>\n",
              "  </tbody>\n",
              "</table>\n",
              "</div>\n",
              "    <div class=\"colab-df-buttons\">\n",
              "\n",
              "  <div class=\"colab-df-container\">\n",
              "    <button class=\"colab-df-convert\" onclick=\"convertToInteractive('df-35010deb-cb90-49bf-823f-e72f7d03bc53')\"\n",
              "            title=\"Convert this dataframe to an interactive table.\"\n",
              "            style=\"display:none;\">\n",
              "\n",
              "  <svg xmlns=\"http://www.w3.org/2000/svg\" height=\"24px\" viewBox=\"0 -960 960 960\">\n",
              "    <path d=\"M120-120v-720h720v720H120Zm60-500h600v-160H180v160Zm220 220h160v-160H400v160Zm0 220h160v-160H400v160ZM180-400h160v-160H180v160Zm440 0h160v-160H620v160ZM180-180h160v-160H180v160Zm440 0h160v-160H620v160Z\"/>\n",
              "  </svg>\n",
              "    </button>\n",
              "\n",
              "  <style>\n",
              "    .colab-df-container {\n",
              "      display:flex;\n",
              "      gap: 12px;\n",
              "    }\n",
              "\n",
              "    .colab-df-convert {\n",
              "      background-color: #E8F0FE;\n",
              "      border: none;\n",
              "      border-radius: 50%;\n",
              "      cursor: pointer;\n",
              "      display: none;\n",
              "      fill: #1967D2;\n",
              "      height: 32px;\n",
              "      padding: 0 0 0 0;\n",
              "      width: 32px;\n",
              "    }\n",
              "\n",
              "    .colab-df-convert:hover {\n",
              "      background-color: #E2EBFA;\n",
              "      box-shadow: 0px 1px 2px rgba(60, 64, 67, 0.3), 0px 1px 3px 1px rgba(60, 64, 67, 0.15);\n",
              "      fill: #174EA6;\n",
              "    }\n",
              "\n",
              "    .colab-df-buttons div {\n",
              "      margin-bottom: 4px;\n",
              "    }\n",
              "\n",
              "    [theme=dark] .colab-df-convert {\n",
              "      background-color: #3B4455;\n",
              "      fill: #D2E3FC;\n",
              "    }\n",
              "\n",
              "    [theme=dark] .colab-df-convert:hover {\n",
              "      background-color: #434B5C;\n",
              "      box-shadow: 0px 1px 3px 1px rgba(0, 0, 0, 0.15);\n",
              "      filter: drop-shadow(0px 1px 2px rgba(0, 0, 0, 0.3));\n",
              "      fill: #FFFFFF;\n",
              "    }\n",
              "  </style>\n",
              "\n",
              "    <script>\n",
              "      const buttonEl =\n",
              "        document.querySelector('#df-35010deb-cb90-49bf-823f-e72f7d03bc53 button.colab-df-convert');\n",
              "      buttonEl.style.display =\n",
              "        google.colab.kernel.accessAllowed ? 'block' : 'none';\n",
              "\n",
              "      async function convertToInteractive(key) {\n",
              "        const element = document.querySelector('#df-35010deb-cb90-49bf-823f-e72f7d03bc53');\n",
              "        const dataTable =\n",
              "          await google.colab.kernel.invokeFunction('convertToInteractive',\n",
              "                                                    [key], {});\n",
              "        if (!dataTable) return;\n",
              "\n",
              "        const docLinkHtml = 'Like what you see? Visit the ' +\n",
              "          '<a target=\"_blank\" href=https://colab.research.google.com/notebooks/data_table.ipynb>data table notebook</a>'\n",
              "          + ' to learn more about interactive tables.';\n",
              "        element.innerHTML = '';\n",
              "        dataTable['output_type'] = 'display_data';\n",
              "        await google.colab.output.renderOutput(dataTable, element);\n",
              "        const docLink = document.createElement('div');\n",
              "        docLink.innerHTML = docLinkHtml;\n",
              "        element.appendChild(docLink);\n",
              "      }\n",
              "    </script>\n",
              "  </div>\n",
              "\n",
              "\n",
              "<div id=\"df-5bc47dc9-a66f-42b4-916d-1c8312be33c7\">\n",
              "  <button class=\"colab-df-quickchart\" onclick=\"quickchart('df-5bc47dc9-a66f-42b4-916d-1c8312be33c7')\"\n",
              "            title=\"Suggest charts\"\n",
              "            style=\"display:none;\">\n",
              "\n",
              "<svg xmlns=\"http://www.w3.org/2000/svg\" height=\"24px\"viewBox=\"0 0 24 24\"\n",
              "     width=\"24px\">\n",
              "    <g>\n",
              "        <path d=\"M19 3H5c-1.1 0-2 .9-2 2v14c0 1.1.9 2 2 2h14c1.1 0 2-.9 2-2V5c0-1.1-.9-2-2-2zM9 17H7v-7h2v7zm4 0h-2V7h2v10zm4 0h-2v-4h2v4z\"/>\n",
              "    </g>\n",
              "</svg>\n",
              "  </button>\n",
              "\n",
              "<style>\n",
              "  .colab-df-quickchart {\n",
              "      --bg-color: #E8F0FE;\n",
              "      --fill-color: #1967D2;\n",
              "      --hover-bg-color: #E2EBFA;\n",
              "      --hover-fill-color: #174EA6;\n",
              "      --disabled-fill-color: #AAA;\n",
              "      --disabled-bg-color: #DDD;\n",
              "  }\n",
              "\n",
              "  [theme=dark] .colab-df-quickchart {\n",
              "      --bg-color: #3B4455;\n",
              "      --fill-color: #D2E3FC;\n",
              "      --hover-bg-color: #434B5C;\n",
              "      --hover-fill-color: #FFFFFF;\n",
              "      --disabled-bg-color: #3B4455;\n",
              "      --disabled-fill-color: #666;\n",
              "  }\n",
              "\n",
              "  .colab-df-quickchart {\n",
              "    background-color: var(--bg-color);\n",
              "    border: none;\n",
              "    border-radius: 50%;\n",
              "    cursor: pointer;\n",
              "    display: none;\n",
              "    fill: var(--fill-color);\n",
              "    height: 32px;\n",
              "    padding: 0;\n",
              "    width: 32px;\n",
              "  }\n",
              "\n",
              "  .colab-df-quickchart:hover {\n",
              "    background-color: var(--hover-bg-color);\n",
              "    box-shadow: 0 1px 2px rgba(60, 64, 67, 0.3), 0 1px 3px 1px rgba(60, 64, 67, 0.15);\n",
              "    fill: var(--button-hover-fill-color);\n",
              "  }\n",
              "\n",
              "  .colab-df-quickchart-complete:disabled,\n",
              "  .colab-df-quickchart-complete:disabled:hover {\n",
              "    background-color: var(--disabled-bg-color);\n",
              "    fill: var(--disabled-fill-color);\n",
              "    box-shadow: none;\n",
              "  }\n",
              "\n",
              "  .colab-df-spinner {\n",
              "    border: 2px solid var(--fill-color);\n",
              "    border-color: transparent;\n",
              "    border-bottom-color: var(--fill-color);\n",
              "    animation:\n",
              "      spin 1s steps(1) infinite;\n",
              "  }\n",
              "\n",
              "  @keyframes spin {\n",
              "    0% {\n",
              "      border-color: transparent;\n",
              "      border-bottom-color: var(--fill-color);\n",
              "      border-left-color: var(--fill-color);\n",
              "    }\n",
              "    20% {\n",
              "      border-color: transparent;\n",
              "      border-left-color: var(--fill-color);\n",
              "      border-top-color: var(--fill-color);\n",
              "    }\n",
              "    30% {\n",
              "      border-color: transparent;\n",
              "      border-left-color: var(--fill-color);\n",
              "      border-top-color: var(--fill-color);\n",
              "      border-right-color: var(--fill-color);\n",
              "    }\n",
              "    40% {\n",
              "      border-color: transparent;\n",
              "      border-right-color: var(--fill-color);\n",
              "      border-top-color: var(--fill-color);\n",
              "    }\n",
              "    60% {\n",
              "      border-color: transparent;\n",
              "      border-right-color: var(--fill-color);\n",
              "    }\n",
              "    80% {\n",
              "      border-color: transparent;\n",
              "      border-right-color: var(--fill-color);\n",
              "      border-bottom-color: var(--fill-color);\n",
              "    }\n",
              "    90% {\n",
              "      border-color: transparent;\n",
              "      border-bottom-color: var(--fill-color);\n",
              "    }\n",
              "  }\n",
              "</style>\n",
              "\n",
              "  <script>\n",
              "    async function quickchart(key) {\n",
              "      const quickchartButtonEl =\n",
              "        document.querySelector('#' + key + ' button');\n",
              "      quickchartButtonEl.disabled = true;  // To prevent multiple clicks.\n",
              "      quickchartButtonEl.classList.add('colab-df-spinner');\n",
              "      try {\n",
              "        const charts = await google.colab.kernel.invokeFunction(\n",
              "            'suggestCharts', [key], {});\n",
              "      } catch (error) {\n",
              "        console.error('Error during call to suggestCharts:', error);\n",
              "      }\n",
              "      quickchartButtonEl.classList.remove('colab-df-spinner');\n",
              "      quickchartButtonEl.classList.add('colab-df-quickchart-complete');\n",
              "    }\n",
              "    (() => {\n",
              "      let quickchartButtonEl =\n",
              "        document.querySelector('#df-5bc47dc9-a66f-42b4-916d-1c8312be33c7 button');\n",
              "      quickchartButtonEl.style.display =\n",
              "        google.colab.kernel.accessAllowed ? 'block' : 'none';\n",
              "    })();\n",
              "  </script>\n",
              "</div>\n",
              "\n",
              "  <div id=\"id_d603258b-a351-4bce-8d45-b46c02e62d80\">\n",
              "    <style>\n",
              "      .colab-df-generate {\n",
              "        background-color: #E8F0FE;\n",
              "        border: none;\n",
              "        border-radius: 50%;\n",
              "        cursor: pointer;\n",
              "        display: none;\n",
              "        fill: #1967D2;\n",
              "        height: 32px;\n",
              "        padding: 0 0 0 0;\n",
              "        width: 32px;\n",
              "      }\n",
              "\n",
              "      .colab-df-generate:hover {\n",
              "        background-color: #E2EBFA;\n",
              "        box-shadow: 0px 1px 2px rgba(60, 64, 67, 0.3), 0px 1px 3px 1px rgba(60, 64, 67, 0.15);\n",
              "        fill: #174EA6;\n",
              "      }\n",
              "\n",
              "      [theme=dark] .colab-df-generate {\n",
              "        background-color: #3B4455;\n",
              "        fill: #D2E3FC;\n",
              "      }\n",
              "\n",
              "      [theme=dark] .colab-df-generate:hover {\n",
              "        background-color: #434B5C;\n",
              "        box-shadow: 0px 1px 3px 1px rgba(0, 0, 0, 0.15);\n",
              "        filter: drop-shadow(0px 1px 2px rgba(0, 0, 0, 0.3));\n",
              "        fill: #FFFFFF;\n",
              "      }\n",
              "    </style>\n",
              "    <button class=\"colab-df-generate\" onclick=\"generateWithVariable('contigency_table')\"\n",
              "            title=\"Generate code using this dataframe.\"\n",
              "            style=\"display:none;\">\n",
              "\n",
              "  <svg xmlns=\"http://www.w3.org/2000/svg\" height=\"24px\"viewBox=\"0 0 24 24\"\n",
              "       width=\"24px\">\n",
              "    <path d=\"M7,19H8.4L18.45,9,17,7.55,7,17.6ZM5,21V16.75L18.45,3.32a2,2,0,0,1,2.83,0l1.4,1.43a1.91,1.91,0,0,1,.58,1.4,1.91,1.91,0,0,1-.58,1.4L9.25,21ZM18.45,9,17,7.55Zm-12,3A5.31,5.31,0,0,0,4.9,8.1,5.31,5.31,0,0,0,1,6.5,5.31,5.31,0,0,0,4.9,4.9,5.31,5.31,0,0,0,6.5,1,5.31,5.31,0,0,0,8.1,4.9,5.31,5.31,0,0,0,12,6.5,5.46,5.46,0,0,0,6.5,12Z\"/>\n",
              "  </svg>\n",
              "    </button>\n",
              "    <script>\n",
              "      (() => {\n",
              "      const buttonEl =\n",
              "        document.querySelector('#id_d603258b-a351-4bce-8d45-b46c02e62d80 button.colab-df-generate');\n",
              "      buttonEl.style.display =\n",
              "        google.colab.kernel.accessAllowed ? 'block' : 'none';\n",
              "\n",
              "      buttonEl.onclick = () => {\n",
              "        google.colab.notebook.generateWithVariable('contigency_table');\n",
              "      }\n",
              "      })();\n",
              "    </script>\n",
              "  </div>\n",
              "\n",
              "    </div>\n",
              "  </div>\n"
            ]
          },
          "metadata": {},
          "execution_count": 2
        }
      ]
    },
    {
      "cell_type": "code",
      "source": [
        "plt.figure(figsize=(6,4))\n",
        "sns.heatmap(contigency_table, annot=True, cmap=\"YlGnBu\")"
      ],
      "metadata": {
        "colab": {
          "base_uri": "https://localhost:8080/",
          "height": 411
        },
        "id": "bTCiK_qS8Sct",
        "outputId": "e3a923da-5cb8-41a1-ae98-8d278c4ae893"
      },
      "execution_count": 3,
      "outputs": [
        {
          "output_type": "execute_result",
          "data": {
            "text/plain": [
              "<Axes: xlabel='isSmoker', ylabel='Gender'>"
            ]
          },
          "metadata": {},
          "execution_count": 3
        },
        {
          "output_type": "display_data",
          "data": {
            "text/plain": [
              "<Figure size 600x400 with 2 Axes>"
            ],
            "image/png": "[encoded data removed]"
          },
          "metadata": {}
        }
      ]
    },
    {
      "cell_type": "markdown",
      "source": [
        "#Goodness of fit test\n",
        "Chi-Square Goodness of fit test validates the observed distribution of categorical variables to the expected distribution. It tells us if the available event values differ from the expected values.\n"
      ],
      "metadata": {
        "id": "M3yi8SPcJkS7"
      }
    },
    {
      "cell_type": "markdown",
      "source": [
        "Human \"randomness\" experiment:\n",
        "\n",
        "N = 200 people, asked to \"mentally shuffle the deck, pick a card, report suit\"\n"
      ],
      "metadata": {
        "id": "kZouwBaOKj_J"
      }
    },
    {
      "cell_type": "markdown",
      "source": [
        "H</sub>0</sub> : All four suits are chosen with equal probability. P = (0.25, 0.25, 0.25, 0.25)\n",
        "\n",
        "H</sub>1</sub> : At least one of the suit-choice probabilities isn't 0.25. P ≠ (0.25, 0.25, 0.25, 0.25)"
      ],
      "metadata": {
        "id": "nOM2rna3KXSF"
      }
    },
    {
      "cell_type": "code",
      "source": [
        "N = 200\n",
        "initial_data = {\n",
        "    'type': ['clubs', 'dimonds', 'hearts', 'spades'],\n",
        "    'Oi': [35,51,64,50],\n",
        "}\n",
        "\n",
        "initial_df = pl.DataFrame(initial_data)\n",
        "initial_df"
      ],
      "metadata": {
        "colab": {
          "base_uri": "https://localhost:8080/",
          "height": 224
        },
        "id": "wTmXfRO9J-fJ",
        "outputId": "67c1a8f8-8da5-47f1-fc48-3f09baa85dda"
      },
      "execution_count": 17,
      "outputs": [
        {
          "output_type": "execute_result",
          "data": {
            "text/plain": [
              "shape: (4, 2)\n",
              "┌─────────┬─────┐\n",
              "│ type    ┆ Oi  │\n",
              "│ ---     ┆ --- │\n",
              "│ str     ┆ i64 │\n",
              "╞═════════╪═════╡\n",
              "│ clubs   ┆ 35  │\n",
              "│ dimonds ┆ 51  │\n",
              "│ hearts  ┆ 64  │\n",
              "│ spades  ┆ 50  │\n",
              "└─────────┴─────┘"
            ],
            "text/html": [
              "<div><style>\n",
              ".dataframe > thead > tr > th,\n",
              ".dataframe > tbody > tr > td {\n",
              "  text-align: right;\n",
              "}\n",
              "</style>\n",
              "<small>shape: (4, 2)</small><table border=\"1\" class=\"dataframe\"><thead><tr><th>type</th><th>Oi</th></tr><tr><td>str</td><td>i64</td></tr></thead><tbody><tr><td>&quot;clubs&quot;</td><td>35</td></tr><tr><td>&quot;dimonds&quot;</td><td>51</td></tr><tr><td>&quot;hearts&quot;</td><td>64</td></tr><tr><td>&quot;spades&quot;</td><td>50</td></tr></tbody></table></div>"
            ]
          },
          "metadata": {},
          "execution_count": 17
        }
      ]
    },
    {
      "cell_type": "markdown",
      "source": [
        "If H<sub>0</sub> is true what will be the value of expected frequencies (E)?</br> Probability expected to be 0.25 for each suit.\n",
        "\n",
        "$$E_i = N * P_i = 200 * 0.25 = 50$$"
      ],
      "metadata": {
        "id": "7rzkYpALOOmo"
      }
    },
    {
      "cell_type": "code",
      "source": [
        "# add expected probability to the table\n",
        "working_df = initial_df.with_columns(Pe = 1 / pl.col('type').count())\n",
        "# calculate expected event rates\n",
        "working_df = working_df.with_columns((N * pl.col('Pe')).alias('Ei'))\n",
        "# calculate difference of observed and expected event rates\n",
        "working_df = working_df.with_columns((pl.col('Oi') - pl.col('Ei')).alias('Diff'))\n",
        "# calculate squared difference\n",
        "working_df = working_df.with_columns((pl.col('Diff') ** 2).alias('Diff squared'))\n",
        "# calculate scaled squared difference\n",
        "working_df = working_df.with_columns((pl.col('Diff squared') / pl.col('Ei')).alias('Diff squared scaled'))\n",
        "working_df"
      ],
      "metadata": {
        "colab": {
          "base_uri": "https://localhost:8080/",
          "height": 224
        },
        "id": "oF3tJTUKQbSZ",
        "outputId": "41e19dc8-29ef-4676-b0a8-bee993f1fb27"
      },
      "execution_count": 18,
      "outputs": [
        {
          "output_type": "execute_result",
          "data": {
            "text/plain": [
              "shape: (4, 7)\n",
              "┌─────────┬─────┬──────┬──────┬───────┬──────────────┬─────────────────────┐\n",
              "│ type    ┆ Oi  ┆ Pe   ┆ Ei   ┆ Diff  ┆ Diff squared ┆ Diff squared scaled │\n",
              "│ ---     ┆ --- ┆ ---  ┆ ---  ┆ ---   ┆ ---          ┆ ---                 │\n",
              "│ str     ┆ i64 ┆ f64  ┆ f64  ┆ f64   ┆ f64          ┆ f64                 │\n",
              "╞═════════╪═════╪══════╪══════╪═══════╪══════════════╪═════════════════════╡\n",
              "│ clubs   ┆ 35  ┆ 0.25 ┆ 50.0 ┆ -15.0 ┆ 225.0        ┆ 4.5                 │\n",
              "│ dimonds ┆ 51  ┆ 0.25 ┆ 50.0 ┆ 1.0   ┆ 1.0          ┆ 0.02                │\n",
              "│ hearts  ┆ 64  ┆ 0.25 ┆ 50.0 ┆ 14.0  ┆ 196.0        ┆ 3.92                │\n",
              "│ spades  ┆ 50  ┆ 0.25 ┆ 50.0 ┆ 0.0   ┆ 0.0          ┆ 0.0                 │\n",
              "└─────────┴─────┴──────┴──────┴───────┴──────────────┴─────────────────────┘"
            ],
            "text/html": [
              "<div><style>\n",
              ".dataframe > thead > tr > th,\n",
              ".dataframe > tbody > tr > td {\n",
              "  text-align: right;\n",
              "}\n",
              "</style>\n",
              "<small>shape: (4, 7)</small><table border=\"1\" class=\"dataframe\"><thead><tr><th>type</th><th>Oi</th><th>Pe</th><th>Ei</th><th>Diff</th><th>Diff squared</th><th>Diff squared scaled</th></tr><tr><td>str</td><td>i64</td><td>f64</td><td>f64</td><td>f64</td><td>f64</td><td>f64</td></tr></thead><tbody><tr><td>&quot;clubs&quot;</td><td>35</td><td>0.25</td><td>50.0</td><td>-15.0</td><td>225.0</td><td>4.5</td></tr><tr><td>&quot;dimonds&quot;</td><td>51</td><td>0.25</td><td>50.0</td><td>1.0</td><td>1.0</td><td>0.02</td></tr><tr><td>&quot;hearts&quot;</td><td>64</td><td>0.25</td><td>50.0</td><td>14.0</td><td>196.0</td><td>3.92</td></tr><tr><td>&quot;spades&quot;</td><td>50</td><td>0.25</td><td>50.0</td><td>0.0</td><td>0.0</td><td>0.0</td></tr></tbody></table></div>"
            ]
          },
          "metadata": {},
          "execution_count": 18
        }
      ]
    },
    {
      "cell_type": "markdown",
      "source": [
        "$\\chi$<sup>2</sup> is a sum of scaled squares of differences between expected and observed event rates.\n",
        "\n",
        "$$\\chi^2 = \\sum_{i}^{rows}\\sum_{j}^{cols}\\frac{(E_{ij}-O_{ij})^2}{E_{ij}}$$\n",
        "\n",
        "$$degreesOfFreedom = rows - 1$$\n"
      ],
      "metadata": {
        "id": "I2aqaiL-3SXN"
      }
    },
    {
      "cell_type": "code",
      "source": [
        "# calculate chi-square statistic by summing up scaled squared difference column\n",
        "chi_square_statistic = working_df.select((pl.col('Diff squared scaled'))).sum().item()\n",
        "degrees_of_freedom = initial_df.shape[0] - 1\n",
        "print(f\"Chi-Square statistic: {chi_square_statistic}\")\n",
        "print(f\"Degrees of freedom: {degrees_of_freedom}\")"
      ],
      "metadata": {
        "colab": {
          "base_uri": "https://localhost:8080/"
        },
        "id": "xYJ8aoWgYZnn",
        "outputId": "df71971e-eec7-411d-c8e1-b55e02527610"
      },
      "execution_count": 19,
      "outputs": [
        {
          "output_type": "stream",
          "name": "stdout",
          "text": [
            "Chi-Square statistic: 8.44\n",
            "Degrees of freedom: 3\n"
          ]
        }
      ]
    },
    {
      "cell_type": "code",
      "source": [
        "x = np.arange(0, 20, 0.001)\n",
        "\n",
        "critical_value = stats.chi2.ppf(1-0.05, df=degrees_of_freedom)\n",
        "p_value = stats.chi2.sf(chi_square_statistic, df=degrees_of_freedom)\n",
        "print(f\"Critical value: {critical_value:.2f} \\nChi-Square statistic: {chi_square_statistic:.2f} \\nP-value: {p_value:.3f}\", end='\\n\\n')\n",
        "\n",
        "fig, ax = plt.subplots(1,1, figsize=(10,5))\n",
        "ax.plot(x, stats.chi2.pdf(x, df=degrees_of_freedom))\n",
        "ax.axvline(chi_square_statistic, color='red')\n",
        "ax.set_xlim(0)\n",
        "ax.set_ylim(0)\n",
        "ax.fill_between(x, stats.chi2.pdf(x, df=degrees_of_freedom), where=x>critical_value, color='red', alpha=0.5)\n",
        "plt.show()"
      ],
      "metadata": {
        "colab": {
          "base_uri": "https://localhost:8080/",
          "height": 516
        },
        "id": "CkcUeyI8bUrJ",
        "outputId": "9b4040a4-7e08-43e6-cb86-e5367b7f41ac"
      },
      "execution_count": 21,
      "outputs": [
        {
          "output_type": "stream",
          "name": "stdout",
          "text": [
            "Critical value: 7.81 \n",
            "Chi-Square statistic: 8.44 \n",
            "P-value: 0.038\n",
            "\n"
          ]
        },
        {
          "output_type": "display_data",
          "data": {
            "text/plain": [
              "<Figure size 1000x500 with 1 Axes>"
            ],
            "image/png": "[encoded data removed]"
          },
          "metadata": {}
        }
      ]
    },
    {
      "cell_type": "markdown",
      "source": [
        "Value 8.44 > Critical value 7.81 OR p(GOF) = 0.038 < $\\alpha$\n",
        "\n",
        "Thus we can reject the null hypothesis.\n"
      ],
      "metadata": {
        "id": "SKGev3rPfQof"
      }
    },
    {
      "cell_type": "markdown",
      "source": [
        "## Automatic calculation"
      ],
      "metadata": {
        "id": "5MZzst5GJbSc"
      }
    },
    {
      "cell_type": "code",
      "source": [
        "chi_square_statistic, p_value = stats.chisquare(initial_df.select(pl.col('Oi')))\n",
        "print(f\"Chi-Square statistic: {chi_square_statistic[0]}\")\n",
        "print(f\"P-value: {p_value[0]:.3f}\")"
      ],
      "metadata": {
        "colab": {
          "base_uri": "https://localhost:8080/"
        },
        "id": "0kfS_QUtJnKX",
        "outputId": "e92b65d8-4192-4694-cf80-4f5542d2730c"
      },
      "execution_count": 9,
      "outputs": [
        {
          "output_type": "stream",
          "name": "stdout",
          "text": [
            "Chi-Square statistic: 8.44\n",
            "P-value: 0.038\n"
          ]
        }
      ]
    },
    {
      "cell_type": "markdown",
      "source": [
        "#Test of independence (or association)\n",
        "\n",
        "Determines if events are independent."
      ],
      "metadata": {
        "id": "zSyXkcPNJ4fa"
      }
    },
    {
      "cell_type": "markdown",
      "source": [
        "Here we have contigency table as initial data."
      ],
      "metadata": {
        "id": "I0CKu8PRCLFZ"
      }
    },
    {
      "cell_type": "code",
      "source": [
        "initial_df = pl.DataFrame({\n",
        "    'genotype': ['AA', 'AG', 'GG'],\n",
        "    'O_desease': [250, 45, 5,],\n",
        "    'O_control': [348, 56, 2],\n",
        "})"
      ],
      "metadata": {
        "id": "I5e76C7-CEk5"
      },
      "execution_count": 10,
      "outputs": []
    },
    {
      "cell_type": "markdown",
      "source": [
        "## Manual step-by-step calculation"
      ],
      "metadata": {
        "id": "hoq4_oDI-1SQ"
      }
    },
    {
      "cell_type": "code",
      "source": [
        "# calculating total by row\n",
        "working_df = initial_df.with_columns((pl.col('O_desease') + pl.col('O_control')).alias('total'))\n",
        "working_df"
      ],
      "metadata": {
        "colab": {
          "base_uri": "https://localhost:8080/",
          "height": 192
        },
        "id": "MPq783TGjSOr",
        "outputId": "dbdd5698-4edf-418f-b262-517b2f44c0bb"
      },
      "execution_count": 11,
      "outputs": [
        {
          "output_type": "execute_result",
          "data": {
            "text/plain": [
              "shape: (3, 4)\n",
              "┌──────────┬───────────┬───────────┬───────┐\n",
              "│ genotype ┆ O_desease ┆ O_control ┆ total │\n",
              "│ ---      ┆ ---       ┆ ---       ┆ ---   │\n",
              "│ str      ┆ i64       ┆ i64       ┆ i64   │\n",
              "╞══════════╪═══════════╪═══════════╪═══════╡\n",
              "│ AA       ┆ 250       ┆ 348       ┆ 598   │\n",
              "│ AG       ┆ 45        ┆ 56        ┆ 101   │\n",
              "│ GG       ┆ 5         ┆ 2         ┆ 7     │\n",
              "└──────────┴───────────┴───────────┴───────┘"
            ],
            "text/html": [
              "<div><style>\n",
              ".dataframe > thead > tr > th,\n",
              ".dataframe > tbody > tr > td {\n",
              "  text-align: right;\n",
              "}\n",
              "</style>\n",
              "<small>shape: (3, 4)</small><table border=\"1\" class=\"dataframe\"><thead><tr><th>genotype</th><th>O_desease</th><th>O_control</th><th>total</th></tr><tr><td>str</td><td>i64</td><td>i64</td><td>i64</td></tr></thead><tbody><tr><td>&quot;AA&quot;</td><td>250</td><td>348</td><td>598</td></tr><tr><td>&quot;AG&quot;</td><td>45</td><td>56</td><td>101</td></tr><tr><td>&quot;GG&quot;</td><td>5</td><td>2</td><td>7</td></tr></tbody></table></div>"
            ]
          },
          "metadata": {},
          "execution_count": 11
        }
      ]
    },
    {
      "cell_type": "markdown",
      "source": [
        "Mutation: rs1287 A>G\n",
        "\n",
        "H<sub>0</sub> : Mutant allele (G) genotypes are not associated with the Disease.\n",
        "\n",
        "H<sub>1</sub> : Mutant allele (G) genotypes are associated with the Disease."
      ],
      "metadata": {
        "id": "XOcBXkA0r5zl"
      }
    },
    {
      "cell_type": "markdown",
      "source": [
        "<h2>Calculating expected frequency</h2>\n",
        "\n",
        "If genotypes (A) and disease (B) are independent, then\n",
        "\n",
        "$$P(A \\cap B) = P(A)*P(B)$$\n",
        "\n",
        "P<sub>disease</sub> = 300/706\n",
        "\n",
        "P<sub>AA</sub> = 598/706\n",
        "\n",
        "E<sub>1,1</sub> = P<sub>disease</sub> \\* P<sub>AA</sub> \\* N"
      ],
      "metadata": {
        "id": "rJrokgwlMLq_"
      }
    },
    {
      "cell_type": "code",
      "source": [
        "# calculate Expected desease\n",
        "working_df = working_df.with_columns(((pl.sum('O_desease') / pl.sum('total'))*(pl.col('total')/pl.sum('total'))* pl.sum('total')).alias('E_desease'))\n",
        "# calculate Expected control\n",
        "working_df = working_df.with_columns(((pl.sum('O_control') / pl.sum('total'))*(pl.col('total')/pl.sum('total'))* pl.sum('total')).alias('E_control'))\n",
        "# calculate Squared difference for desease\n",
        "working_df = working_df.with_columns((((pl.col('O_desease') - pl.col('E_desease'))**2)/pl.col('E_desease')).alias('Desease_diff_squared'))\n",
        "# calculate Squared difference for control\n",
        "working_df = working_df.with_columns((((pl.col('O_control') - pl.col('E_control'))**2)/pl.col('E_control')).alias('Control_diff_squared'))\n",
        "working_df"
      ],
      "metadata": {
        "colab": {
          "base_uri": "https://localhost:8080/",
          "height": 192
        },
        "id": "wIcYv1hOQjFS",
        "outputId": "9460aae9-0d8b-466f-9a06-39bca4acbc98"
      },
      "execution_count": 12,
      "outputs": [
        {
          "output_type": "execute_result",
          "data": {
            "text/plain": [
              "shape: (3, 8)\n",
              "┌──────────┬───────────┬───────────┬───────┬────────────┬────────────┬──────────────┬──────────────┐\n",
              "│ genotype ┆ O_desease ┆ O_control ┆ total ┆ E_desease  ┆ E_control  ┆ Desease_diff ┆ Control_diff │\n",
              "│ ---      ┆ ---       ┆ ---       ┆ ---   ┆ ---        ┆ ---        ┆ _squared     ┆ _squared     │\n",
              "│ str      ┆ i64       ┆ i64       ┆ i64   ┆ f64        ┆ f64        ┆ ---          ┆ ---          │\n",
              "│          ┆           ┆           ┆       ┆            ┆            ┆ f64          ┆ f64          │\n",
              "╞══════════╪═══════════╪═══════════╪═══════╪════════════╪════════════╪══════════════╪══════════════╡\n",
              "│ AA       ┆ 250       ┆ 348       ┆ 598   ┆ 254.107649 ┆ 343.892351 ┆ 0.0664       ┆ 0.049064     │\n",
              "│ AG       ┆ 45        ┆ 56        ┆ 101   ┆ 42.917847  ┆ 58.082153  ┆ 0.101015     ┆ 0.074642     │\n",
              "│ GG       ┆ 5         ┆ 2         ┆ 7     ┆ 2.974504   ┆ 4.025496   ┆ 1.379266     ┆ 1.019162     │\n",
              "└──────────┴───────────┴───────────┴───────┴────────────┴────────────┴──────────────┴──────────────┘"
            ],
            "text/html": [
              "<div><style>\n",
              ".dataframe > thead > tr > th,\n",
              ".dataframe > tbody > tr > td {\n",
              "  text-align: right;\n",
              "}\n",
              "</style>\n",
              "<small>shape: (3, 8)</small><table border=\"1\" class=\"dataframe\"><thead><tr><th>genotype</th><th>O_desease</th><th>O_control</th><th>total</th><th>E_desease</th><th>E_control</th><th>Desease_diff_squared</th><th>Control_diff_squared</th></tr><tr><td>str</td><td>i64</td><td>i64</td><td>i64</td><td>f64</td><td>f64</td><td>f64</td><td>f64</td></tr></thead><tbody><tr><td>&quot;AA&quot;</td><td>250</td><td>348</td><td>598</td><td>254.107649</td><td>343.892351</td><td>0.0664</td><td>0.049064</td></tr><tr><td>&quot;AG&quot;</td><td>45</td><td>56</td><td>101</td><td>42.917847</td><td>58.082153</td><td>0.101015</td><td>0.074642</td></tr><tr><td>&quot;GG&quot;</td><td>5</td><td>2</td><td>7</td><td>2.974504</td><td>4.025496</td><td>1.379266</td><td>1.019162</td></tr></tbody></table></div>"
            ]
          },
          "metadata": {},
          "execution_count": 12
        }
      ]
    },
    {
      "cell_type": "markdown",
      "source": [
        "$\\chi$<sup>2</sup> is a sum of scaled squares of differences between expected and observed event rates.\n",
        "\n",
        "$$\\chi^2 = \\sum_{i}^{rows}\\sum_{j}^{cols}\\frac{(E_{ij}-O_{ij})^2}{E_{ij}}$$\n",
        "\n",
        "$$degreesOfFreedom = (rows - 1) * (cols - 1)$$"
      ],
      "metadata": {
        "id": "2Y2DESFHWEpx"
      }
    },
    {
      "cell_type": "code",
      "source": [
        "chi_square_statistic = working_df.select((pl.sum('Desease_diff_squared') + pl.sum('Control_diff_squared'))).item()\n",
        "cols = working_df.select((pl.col(pl.Int64))).n_unique() - 1\n",
        "rows = initial_df.shape[0] - 1\n",
        "cols = initial_df.shape[1] - 1 - 1 # here we also exclude genotype (index) column\n",
        "degrees_of_freedom = rows * cols\n",
        "print(f\"Chi-Square statistic: {chi_square_statistic}\")\n",
        "print(f\"Degrees of freedom: {degrees_of_freedom}\")"
      ],
      "metadata": {
        "colab": {
          "base_uri": "https://localhost:8080/"
        },
        "id": "9KXlaGcWR5xC",
        "outputId": "fb6d0f5d-348a-4860-beef-d1db46cadfb3"
      },
      "execution_count": 13,
      "outputs": [
        {
          "output_type": "stream",
          "name": "stdout",
          "text": [
            "Chi-Square statistic: 2.6895498036455154\n",
            "Degrees of freedom: 2\n"
          ]
        }
      ]
    },
    {
      "cell_type": "code",
      "source": [
        "x = np.arange(0, 20, 0.001)\n",
        "\n",
        "critical_value = stats.chi2.ppf(1-0.05, df=degrees_of_freedom)\n",
        "p_value = stats.chi2.sf(chi_square_statistic, df=degrees_of_freedom)\n",
        "print(f\"Critical value: {critical_value:.2f} \\nChi-Square statistic: {chi_square_statistic:.2f} \\nP-value: {p_value:.3f}\", end='\\n\\n')\n",
        "\n",
        "fig, ax = plt.subplots(1,1, figsize=(10,5))\n",
        "ax.plot(x, stats.chi2.pdf(x, df=degrees_of_freedom))\n",
        "ax.axvline(chi_square_statistic, color='red')\n",
        "ax.set_xlim(0)\n",
        "ax.set_ylim(0)\n",
        "ax.fill_between(x, stats.chi2.pdf(x, df=degrees_of_freedom), where=x>critical_value, color='red', alpha=0.5)\n",
        "plt.show()"
      ],
      "metadata": {
        "colab": {
          "base_uri": "https://localhost:8080/",
          "height": 516
        },
        "id": "qrqlYrAJWbSB",
        "outputId": "0e6959dd-8198-4970-bf08-70f3ec7bd492"
      },
      "execution_count": 14,
      "outputs": [
        {
          "output_type": "stream",
          "name": "stdout",
          "text": [
            "Critical value: 5.99, \n",
            "Chi-Square statistic: 2.69, \n",
            "P-value: 0.261\n",
            "\n"
          ]
        },
        {
          "output_type": "display_data",
          "data": {
            "text/plain": [
              "<Figure size 1000x500 with 1 Axes>"
            ],
            "image/png": "[encoded data removed]"
          },
          "metadata": {}
        }
      ]
    },
    {
      "cell_type": "markdown",
      "source": [
        "Value 2.69 < Critical value 5.99 OR p(GOF) = 0.261 > $\\alpha$\n",
        "\n",
        "We fail to reject null hypothesis, thus mutant allele (G) genotypes are not associated with the Disease."
      ],
      "metadata": {
        "id": "6h27ROwLXDyD"
      }
    },
    {
      "cell_type": "markdown",
      "source": [
        "## Automatic calculation"
      ],
      "metadata": {
        "id": "_Jb8Y4rZ-9l-"
      }
    },
    {
      "cell_type": "code",
      "source": [
        "contigency_table = initial_df.to_pandas().set_index('genotype')\n",
        "\n",
        "plt.figure(figsize=(6,4))\n",
        "sns.heatmap(contigency_table, annot=True, cmap=\"YlGnBu\")\n",
        "plt.show()\n",
        "\n",
        "chi_square_statistic, p_value, degrees_of_freedom, expected = stats.chi2_contingency(contigency_table)\n",
        "\n",
        "print(f\"\\nChi-Square statistic: {chi_square_statistic:.2f}\")\n",
        "print(f\"P-value: {p_value:.3f}\")\n",
        "print(f\"Degrees of freedom: {degrees_of_freedom}\")\n",
        "print(f\"Expected values: \\n{expected}\")"
      ],
      "metadata": {
        "colab": {
          "base_uri": "https://localhost:8080/",
          "height": 511
        },
        "id": "fajQiFl79j4D",
        "outputId": "0b518dbe-0818-4968-a5aa-295b8bf46887"
      },
      "execution_count": 15,
      "outputs": [
        {
          "output_type": "display_data",
          "data": {
            "text/plain": [
              "<Figure size 600x400 with 2 Axes>"
            ],
            "image/png": "[encoded data removed]"
          },
          "metadata": {}
        },
        {
          "output_type": "stream",
          "name": "stdout",
          "text": [
            "\n",
            "Chi-Square statistic: 2.69\n",
            "P-value: 0.261\n",
            "Degrees of freedom: 2\n",
            "Expected values: \n",
            "[[254.10764873 343.89235127]\n",
            " [ 42.91784703  58.08215297]\n",
            " [  2.97450425   4.02549575]]\n"
          ]
        }
      ]
    },
    {
      "cell_type": "markdown",
      "source": [
        "Here we get the same data as by manual calculation."
      ],
      "metadata": {
        "id": "LPSE6LydD9IZ"
      }
    },
    {
      "cell_type": "markdown",
      "source": [
        "#Test of a single variance / Test for Homogeneity\n",
        "tests variability"
      ],
      "metadata": {
        "id": "uR3Uxhg3J7VZ"
      }
    },
    {
      "cell_type": "markdown",
      "source": [
        "Test for homogeneity, can be used to draw a conclusion about whether two populations have the same distribution.\n",
        "\n",
        "H<sub>0</sub> : The distributions of the two populations are the same.\n",
        "\n",
        "H<sub>1</sub> : The distributions of the two populations are not the same.\n",
        "\n",
        "$\\chi$<sup>2</sup> test statistic computed in the same way as the test for independence.\n",
        "\n",
        "df = number of columns - 1\n"
      ],
      "metadata": {
        "id": "eEeqgnx6auO9"
      }
    },
    {
      "cell_type": "markdown",
      "source": [
        "<h2>The continuity correction / The Yates correction</h2>\n",
        "\n",
        "- The $\\chi$<sup>2</sup> test is based on an approximation that the binomial distribution starts to look like a normal distribution for large N.\n",
        "\n",
        "- With df = 1 (2x2 contingency tables), this is not always the case and can introduce systemic bias when N is small.\n"
      ],
      "metadata": {
        "id": "FvFaB-8TbdBk"
      }
    },
    {
      "cell_type": "markdown",
      "source": [
        "\n",
        "$$\\chi^2 = \\sum_{i} \\frac{(|E_i - O_i| - 0.5)^2}{E_i}$$"
      ],
      "metadata": {
        "id": "s7e7bsaxcJCd"
      }
    },
    {
      "cell_type": "markdown",
      "source": [
        "<h2>Assumptions of the test(s)</h2>\n",
        "\n",
        "- Expected frequencies are sufficiently large. Expected frequencies larger than 5.\n",
        "\n",
        "- Data are independent of one another. If violated consider McNemar test or the Cochran test.\n"
      ],
      "metadata": {
        "id": "uE47jG6id3x2"
      }
    },
    {
      "cell_type": "markdown",
      "source": [
        "<h2>The Effect size</h2>\n",
        "\n",
        "$\\varphi$ statistic (for 2x2 tables)\n",
        "\n",
        "range: 0-1,\n",
        "\n",
        "where 0 - no effect, 1 - strongest effect\n",
        "\n",
        "$$\\varphi = \\sqrt{\\frac{x^2}{N}}$$\n"
      ],
      "metadata": {
        "id": "It6Of6lcf3jl"
      }
    },
    {
      "cell_type": "markdown",
      "source": [
        "<h2>Cramer’s V statistic (for bigger tables)</h2>\n",
        "\n",
        "range: 0-1,\n",
        "\n",
        "where 0 - no effect, 1 - strongest effect\n",
        "\n",
        "$$V = \\sqrt{\\frac{x^2}{N(k - 1)}}, k = min(row, column)$$\n",
        "\n"
      ],
      "metadata": {
        "id": "nv3riAYfhbUL"
      }
    },
    {
      "cell_type": "markdown",
      "source": [
        "<h2>Fisher Exact test</h2>\n",
        "\n",
        "Fishers exact test determines whether a statistically significant association exists between two categorical variables.\n",
        "\n",
        "When to use Fisher’s exact test (instead of $\\chi$<sup>2</sup> test for independence):\n",
        "- Cell counts are smaller than 20\n",
        "- A cell has an expected value 5 or less.\n",
        "- The column or row marginal values are extremely uneven."
      ],
      "metadata": {
        "id": "Ef1aHwHSh8Q1"
      }
    },
    {
      "cell_type": "markdown",
      "source": [
        "<h2>Hypotheses</h2>\n",
        "\n",
        "H<sub>0</sub>:The two variables are independent.\n",
        "\n",
        "H<sub>1</sub>: The two variables are not independent.\n",
        "\n",
        "Fisher test calculates the number of all possible contingency tables with the same row and column totals as the observed table.\n",
        "Then it calculates the probability for the p-value by finding the proportion of possible tables that are more extreme than the observed table."
      ],
      "metadata": {
        "id": "CyLG48J1lSI2"
      }
    },
    {
      "cell_type": "markdown",
      "source": [
        "<h2>How p is calculated for Fisher Exact test</h2>"
      ],
      "metadata": {
        "id": "q1KIoDcIlLm5"
      }
    },
    {
      "cell_type": "markdown",
      "source": [
        "|Categories|Group 1|Group 2| Row total|\n",
        "|---       |:---:  |:---:  |:---:     |\n",
        "|category 1|a.     |c.     |a+c.      |\n",
        "|category 2|b.     |d.     |b+d.      |\n",
        "|column total|a+b. |c+d.   |a+b+c+d=n |"
      ],
      "metadata": {
        "id": "ANSvITiKo19-"
      }
    },
    {
      "cell_type": "markdown",
      "source": [
        "$$p = \\frac{(a+b)!(c+d)!(a+c)!(b+d)!}{a!b!c!d!n!}$$\n",
        "\n",
        "equivalent to probability of hypergeometric distribution with following parameters:\n",
        "- population size = n\n",
        "- population \"successes\" = a+b\n",
        "- sample size = a + c\n",
        "- sample \"successes\" = a\n"
      ],
      "metadata": {
        "id": "QVuas5OVlfqH"
      }
    },
    {
      "cell_type": "markdown",
      "source": [
        "<h2>Fisher exact test applications</h2>\n",
        "\n",
        "Test whether known biological functions or processes are over-represented (= enriched) in an experimentally-derived gene list, e.g. a list of differentially expressed (DE) genes.\n",
        "\n",
        "Refer to:\n",
        "https://isglobal-brge.github.io/Master_Bioinformatics/enrichment-analysis.html"
      ],
      "metadata": {
        "id": "VIOQVV1_mFlc"
      }
    }
  ]
}