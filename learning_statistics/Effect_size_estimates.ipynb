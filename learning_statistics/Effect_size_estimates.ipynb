{
 "cells": [
  {
   "cell_type": "markdown",
   "metadata": {},
   "source": [
    "## R-squared $R^2$\n"
   ]
  },
  {
   "cell_type": "markdown",
   "metadata": {},
   "source": [
    "R-squared (Coefficient of determination) is a statistical measure that represents the proportion of the variance for a dependent variable that's explained by an independent variable in a **regression model**. It is always between 0 and 1.\n",
    "\n",
    "$$R^2 = 1 - \\frac{SS_\\text{within}}{SS_\\text{total}}$$\n"
   ]
  },
  {
   "cell_type": "markdown",
   "metadata": {},
   "source": [
    "<h3>Adjusted</h3>\n"
   ]
  },
  {
   "cell_type": "markdown",
   "metadata": {},
   "source": [
    "Adjusted R-squared value is calculated using the formula:\n",
    "\n",
    "$$R^2_\\text{adj} = 1 - \\frac{(1 - R^2) * (n - 1)}{(n - p - 1)})$$\n",
    "\n",
    "Where\n",
    "\n",
    "$n$ - the number of observations\n",
    "\n",
    "$p$ - the number of predictors (independent variables)\n"
   ]
  },
  {
   "cell_type": "markdown",
   "metadata": {},
   "source": [
    "## Eta-squared $\\eta^2$\n"
   ]
  },
  {
   "cell_type": "markdown",
   "metadata": {},
   "source": [
    "$$\\eta^2 = \\frac{SS_\\text{between}}{SS_\\text{total}}$$\n",
    "\n",
    "$$\\eta^2_\\text{partial} = \\frac{SS_\\text{between}}{SS_\\text{between} + SS_\\text{within}}$$\n"
   ]
  },
  {
   "cell_type": "markdown",
   "metadata": {},
   "source": [
    "## Omega-squared $\\omega^2$\n"
   ]
  }
 ],
 "metadata": {
  "language_info": {
   "name": "python"
  }
 },
 "nbformat": 4,
 "nbformat_minor": 2
}
