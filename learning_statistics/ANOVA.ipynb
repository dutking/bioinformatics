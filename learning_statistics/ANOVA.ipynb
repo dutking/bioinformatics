{
 "cells": [
  {
   "cell_type": "markdown",
   "metadata": {},
   "source": [
    "<h1>Analysis of Variance</h1>\n"
   ]
  },
  {
   "cell_type": "code",
   "execution_count": 38,
   "metadata": {},
   "outputs": [],
   "source": [
    "import polars as pl\n",
    "import seaborn as sns\n",
    "import statsmodels.formula.api as smf\n",
    "import statsmodels.api as sm\n",
    "import numpy as np\n",
    "from scipy.stats import f\n",
    "import matplotlib.pyplot as plt\n",
    "\n",
    "%matplotlib inline"
   ]
  },
  {
   "cell_type": "markdown",
   "metadata": {},
   "source": [
    "As a dataset we use oservations of teeth length of guinea pigs given different doses - 0.5, 1, 2 mg - of vitamin C of two different forms - orange juice and just vitamin C.\n",
    "\n",
    "In this example we will use only Dose factor.\n"
   ]
  },
  {
   "cell_type": "code",
   "execution_count": 39,
   "metadata": {},
   "outputs": [
    {
     "data": {
      "text/html": [
       "<div><style>\n",
       ".dataframe > thead > tr,\n",
       ".dataframe > tbody > tr {\n",
       "  text-align: right;\n",
       "  white-space: pre-wrap;\n",
       "}\n",
       "</style>\n",
       "<small>shape: (5, 4)</small><table border=\"1\" class=\"dataframe\"><thead><tr><th></th><th>len</th><th>supp</th><th>dose</th></tr><tr><td>i64</td><td>f64</td><td>str</td><td>f64</td></tr></thead><tbody><tr><td>1</td><td>4.2</td><td>&quot;VC&quot;</td><td>0.5</td></tr><tr><td>2</td><td>11.5</td><td>&quot;VC&quot;</td><td>0.5</td></tr><tr><td>3</td><td>7.3</td><td>&quot;VC&quot;</td><td>0.5</td></tr><tr><td>4</td><td>5.8</td><td>&quot;VC&quot;</td><td>0.5</td></tr><tr><td>5</td><td>6.4</td><td>&quot;VC&quot;</td><td>0.5</td></tr></tbody></table></div>"
      ],
      "text/plain": [
       "shape: (5, 4)\n",
       "┌─────┬──────┬──────┬──────┐\n",
       "│     ┆ len  ┆ supp ┆ dose │\n",
       "│ --- ┆ ---  ┆ ---  ┆ ---  │\n",
       "│ i64 ┆ f64  ┆ str  ┆ f64  │\n",
       "╞═════╪══════╪══════╪══════╡\n",
       "│ 1   ┆ 4.2  ┆ VC   ┆ 0.5  │\n",
       "│ 2   ┆ 11.5 ┆ VC   ┆ 0.5  │\n",
       "│ 3   ┆ 7.3  ┆ VC   ┆ 0.5  │\n",
       "│ 4   ┆ 5.8  ┆ VC   ┆ 0.5  │\n",
       "│ 5   ┆ 6.4  ┆ VC   ┆ 0.5  │\n",
       "└─────┴──────┴──────┴──────┘"
      ]
     },
     "execution_count": 39,
     "metadata": {},
     "output_type": "execute_result"
    }
   ],
   "source": [
    "teeth_df = pl.read_csv(\"../datasets/ToothGrowth.csv\")\n",
    "teeth_df.head()"
   ]
  },
  {
   "cell_type": "code",
   "execution_count": 40,
   "metadata": {},
   "outputs": [
    {
     "data": {
      "text/html": [
       "<div><style>\n",
       ".dataframe > thead > tr,\n",
       ".dataframe > tbody > tr {\n",
       "  text-align: right;\n",
       "  white-space: pre-wrap;\n",
       "}\n",
       "</style>\n",
       "<small>shape: (9, 5)</small><table border=\"1\" class=\"dataframe\"><thead><tr><th>describe</th><th></th><th>len</th><th>supp</th><th>dose</th></tr><tr><td>str</td><td>f64</td><td>f64</td><td>str</td><td>f64</td></tr></thead><tbody><tr><td>&quot;count&quot;</td><td>60.0</td><td>60.0</td><td>&quot;60&quot;</td><td>60.0</td></tr><tr><td>&quot;null_count&quot;</td><td>0.0</td><td>0.0</td><td>&quot;0&quot;</td><td>0.0</td></tr><tr><td>&quot;mean&quot;</td><td>30.5</td><td>18.813333</td><td>null</td><td>1.166667</td></tr><tr><td>&quot;std&quot;</td><td>17.464249</td><td>7.649315</td><td>null</td><td>0.628872</td></tr><tr><td>&quot;min&quot;</td><td>1.0</td><td>4.2</td><td>&quot;OJ&quot;</td><td>0.5</td></tr><tr><td>&quot;25%&quot;</td><td>16.0</td><td>13.6</td><td>null</td><td>0.5</td></tr><tr><td>&quot;50%&quot;</td><td>31.0</td><td>19.7</td><td>null</td><td>1.0</td></tr><tr><td>&quot;75%&quot;</td><td>45.0</td><td>25.2</td><td>null</td><td>2.0</td></tr><tr><td>&quot;max&quot;</td><td>60.0</td><td>33.9</td><td>&quot;VC&quot;</td><td>2.0</td></tr></tbody></table></div>"
      ],
      "text/plain": [
       "shape: (9, 5)\n",
       "┌────────────┬───────────┬───────────┬──────┬──────────┐\n",
       "│ describe   ┆           ┆ len       ┆ supp ┆ dose     │\n",
       "│ ---        ┆ ---       ┆ ---       ┆ ---  ┆ ---      │\n",
       "│ str        ┆ f64       ┆ f64       ┆ str  ┆ f64      │\n",
       "╞════════════╪═══════════╪═══════════╪══════╪══════════╡\n",
       "│ count      ┆ 60.0      ┆ 60.0      ┆ 60   ┆ 60.0     │\n",
       "│ null_count ┆ 0.0       ┆ 0.0       ┆ 0    ┆ 0.0      │\n",
       "│ mean       ┆ 30.5      ┆ 18.813333 ┆ null ┆ 1.166667 │\n",
       "│ std        ┆ 17.464249 ┆ 7.649315  ┆ null ┆ 0.628872 │\n",
       "│ min        ┆ 1.0       ┆ 4.2       ┆ OJ   ┆ 0.5      │\n",
       "│ 25%        ┆ 16.0      ┆ 13.6      ┆ null ┆ 0.5      │\n",
       "│ 50%        ┆ 31.0      ┆ 19.7      ┆ null ┆ 1.0      │\n",
       "│ 75%        ┆ 45.0      ┆ 25.2      ┆ null ┆ 2.0      │\n",
       "│ max        ┆ 60.0      ┆ 33.9      ┆ VC   ┆ 2.0      │\n",
       "└────────────┴───────────┴───────────┴──────┴──────────┘"
      ]
     },
     "execution_count": 40,
     "metadata": {},
     "output_type": "execute_result"
    }
   ],
   "source": [
    "teeth_df.describe()"
   ]
  },
  {
   "cell_type": "markdown",
   "metadata": {},
   "source": [
    "<h2>Hypotheses</h2>\n",
    "H<sub>0</sub>: There is no difference among 'dose' group means. The average teeth length will be the same among 'dose' groups.\n",
    "\n",
    "H<sub>1</sub>: At least one group differs significantly from the overall mean of teeth length.\n"
   ]
  },
  {
   "cell_type": "markdown",
   "metadata": {},
   "source": [
    "## Manual calculations\n"
   ]
  },
  {
   "cell_type": "markdown",
   "metadata": {},
   "source": [
    "In order to manually proceed ANOVA we use ANOVA table:\n"
   ]
  },
  {
   "cell_type": "markdown",
   "metadata": {},
   "source": [
    "| Source of Variation | Sum of Squares | Degrees of Freedom | Mean Squares | F-value |\n",
    "| :-: | :-: | :-: | :-: | :-: |\n",
    "| Between groups | SS<sub>between</sub> | DF<sub>between</sub> | MS<sub>between</sub> | F-value |\n",
    "| Within groups | SS<sub>within</sub> | DF<sub>within</sub> | MS<sub>within</sub> |  |\n",
    "| Total | SS<sub>total</sub> | DF<sub>total</sub> | MS<sub>total</sub> |  |\n"
   ]
  },
  {
   "cell_type": "markdown",
   "metadata": {},
   "source": [
    "| Source of Variation | Sum of Squares | Degrees of Freedom | Mean Squares | F-value |\n",
    "| :-: | :-: | :-: | :-: | :-: |\n",
    "| Between groups | $\\sum n(\\overline{x}_i-GM)^2$ | Number of groups - 1 | $\\frac{SS_\\text{between}}{DF_\\text{between}}$ | $\\frac{MS_\\text{between}}{MS_\\text{within}}$ |\n",
    "| Within groups | $\\sum (x_i - \\overline{x})^2$ | DF<sub>total</sub> - DF<sub>between</sub> | $\\frac{SS_\\text{within}}{DF_\\text{within}}$ |  |\n",
    "| Total | $\\sum (x_i - GM)^2$ | Number of samples - 1 |  |  |\n"
   ]
  },
  {
   "cell_type": "markdown",
   "metadata": {},
   "source": [
    "### Global Mean\n",
    "\n",
    "At first we calculate Global Mean (GM), which is an estimate of the population mean.\n"
   ]
  },
  {
   "cell_type": "code",
   "execution_count": 41,
   "metadata": {},
   "outputs": [
    {
     "name": "stdout",
     "output_type": "stream",
     "text": [
      "Global mean = 18.813333333333336\n"
     ]
    }
   ],
   "source": [
    "GM = teeth_df.select(\"len\").mean().item()\n",
    "print(f\"Global mean = {GM}\")"
   ]
  },
  {
   "cell_type": "markdown",
   "metadata": {},
   "source": [
    "### Sum of Squares between groups\n"
   ]
  },
  {
   "cell_type": "markdown",
   "metadata": {},
   "source": [
    "To calculate $SS_\\text{between}$ we use next formula:\n",
    "\n",
    "$$SS_\\text{between} = \\sum n(\\overline{x}_i-GM)^2$$\n",
    "\n",
    "where:\n",
    "\n",
    "$n$ - number of samples in a particular group\n",
    "\n",
    "$\\overline{x}$ - mean of a group\n",
    "\n",
    "$GM$ - global mean\n"
   ]
  },
  {
   "cell_type": "markdown",
   "metadata": {},
   "source": [
    "Let's calculate mean and $n$ of each group:\n"
   ]
  },
  {
   "cell_type": "code",
   "execution_count": 42,
   "metadata": {},
   "outputs": [
    {
     "data": {
      "text/html": [
       "<div><style>\n",
       ".dataframe > thead > tr,\n",
       ".dataframe > tbody > tr {\n",
       "  text-align: right;\n",
       "  white-space: pre-wrap;\n",
       "}\n",
       "</style>\n",
       "<small>shape: (3, 3)</small><table border=\"1\" class=\"dataframe\"><thead><tr><th>dose</th><th>mean</th><th>count</th></tr><tr><td>f64</td><td>f64</td><td>u32</td></tr></thead><tbody><tr><td>0.5</td><td>10.605</td><td>20</td></tr><tr><td>1.0</td><td>19.735</td><td>20</td></tr><tr><td>2.0</td><td>26.1</td><td>20</td></tr></tbody></table></div>"
      ],
      "text/plain": [
       "shape: (3, 3)\n",
       "┌──────┬────────┬───────┐\n",
       "│ dose ┆ mean   ┆ count │\n",
       "│ ---  ┆ ---    ┆ ---   │\n",
       "│ f64  ┆ f64    ┆ u32   │\n",
       "╞══════╪════════╪═══════╡\n",
       "│ 0.5  ┆ 10.605 ┆ 20    │\n",
       "│ 1.0  ┆ 19.735 ┆ 20    │\n",
       "│ 2.0  ┆ 26.1   ┆ 20    │\n",
       "└──────┴────────┴───────┘"
      ]
     },
     "execution_count": 42,
     "metadata": {},
     "output_type": "execute_result"
    }
   ],
   "source": [
    "groupped_by_dose = (\n",
    "    teeth_df.group_by(\"dose\").agg(mean=pl.mean(\"len\"), count=pl.count()).sort(\"dose\")\n",
    ")\n",
    "groupped_by_dose"
   ]
  },
  {
   "cell_type": "markdown",
   "metadata": {},
   "source": [
    "Now we apply given formula to calculate Sum of Squares between groups:\n"
   ]
  },
  {
   "cell_type": "code",
   "execution_count": 50,
   "metadata": {},
   "outputs": [
    {
     "name": "stdout",
     "output_type": "stream",
     "text": [
      "Sum of Squares between groups = 2426.434333333332\n"
     ]
    }
   ],
   "source": [
    "SS_between = (\n",
    "    groupped_by_dose.with_columns(\n",
    "        ss_between=pl.col(\"count\") * ((pl.col(\"mean\") - GM) ** 2)\n",
    "    )\n",
    "    .select(\"ss_between\")\n",
    "    .sum()\n",
    "    .item()\n",
    ")\n",
    "print(f\"Sum of Squares between groups = {SS_between}\")"
   ]
  },
  {
   "cell_type": "markdown",
   "metadata": {},
   "source": [
    "### Sum of Squares within groups\n"
   ]
  },
  {
   "cell_type": "markdown",
   "metadata": {},
   "source": [
    "To calculate $SS_\\text{within}$ we use next formula:\n",
    "\n",
    "$$SS_\\text{within} = \\sum (x_i - \\overline{x})^2$$\n",
    "\n",
    "where:\n",
    "\n",
    "$x^i$ - particular sample value\n",
    "\n",
    "$\\overline{x}$ - mean of a group\n"
   ]
  },
  {
   "cell_type": "code",
   "execution_count": 49,
   "metadata": {},
   "outputs": [
    {
     "name": "stdout",
     "output_type": "stream",
     "text": [
      "Sum of Squares within groups = 1025.7750000000003\n"
     ]
    }
   ],
   "source": [
    "teeth_df_with_mean = teeth_df.join(groupped_by_dose, on=\"dose\", how=\"left\")\n",
    "SS_within = (\n",
    "    teeth_df_with_mean.with_columns(\n",
    "        ss_within=(pl.col(\"len\") - pl.col(\"mean\")) ** 2\n",
    "    )  # here is the squared difference is calulated\n",
    "    .select(\"ss_within\")\n",
    "    .sum()\n",
    "    .item()\n",
    ")\n",
    "print(f\"Sum of Squares within groups = {SS_within}\")"
   ]
  },
  {
   "cell_type": "markdown",
   "metadata": {},
   "source": [
    "### Total Sum of Squares\n"
   ]
  },
  {
   "cell_type": "markdown",
   "metadata": {},
   "source": [
    "To calculate $SS_\\text{total}$ we use next formula:\n",
    "\n",
    "$$SS_\\text{total} = \\sum (x_i - GM)^2$$\n",
    "\n",
    "where:\n",
    "\n",
    "$x^i$ - particular sample value\n",
    "\n",
    "$GM$ - global mean\n"
   ]
  },
  {
   "cell_type": "code",
   "execution_count": 48,
   "metadata": {},
   "outputs": [
    {
     "name": "stdout",
     "output_type": "stream",
     "text": [
      "Sum of Squares total = 3452.2093333333332\n"
     ]
    }
   ],
   "source": [
    "SS_total = (\n",
    "    teeth_df.with_columns(ss_total=(pl.col(\"len\") - GM) ** 2)\n",
    "    .select(\"ss_total\")\n",
    "    .sum()\n",
    "    .item()\n",
    ")\n",
    "print(f\"Sum of Squares total = {SS_total}\")"
   ]
  },
  {
   "cell_type": "markdown",
   "metadata": {},
   "source": [
    "Now we have calculated all Sum of Squares: | Source of Variation | Sum of Squares | Degrees of Freedom | Mean Squares | F-value | | :-: | :-: | :-: | :-: | :-: | | Between groups | 2426.43 | DF<sub>between</sub> | MS<sub>between</sub> | | | Within groups | 1025.78 | DF<sub>within</sub> | MS<sub>within</sub> | | | Total | 3452.21 | DF<sub>total</sub> | MS<sub>total</sub> | |\n"
   ]
  },
  {
   "cell_type": "markdown",
   "metadata": {},
   "source": [
    "### Degrees of Freedom\n"
   ]
  },
  {
   "cell_type": "markdown",
   "metadata": {},
   "source": [
    "Now we move to Degrees of Freedom.\n",
    "\n",
    "$$DF_\\text{between} = \\text{number of groups} - 1$$\n",
    "\n",
    "$$DF_\\text{total} = \\text{total number of samples} - 1$$\n",
    "\n",
    "$$DF_\\text{within} = DF_\\text{total} - DF_\\text{total}$$\n"
   ]
  },
  {
   "cell_type": "code",
   "execution_count": 51,
   "metadata": {},
   "outputs": [
    {
     "name": "stdout",
     "output_type": "stream",
     "text": [
      "DF between = 2\n",
      "DF within = 57\n",
      "DF total = 59\n"
     ]
    }
   ],
   "source": [
    "DF_between = groupped_by_dose.shape[0] - 1\n",
    "DF_total = teeth_df.shape[0] - 1\n",
    "DF_within = DF_total - DF_between\n",
    "print(f\"DF between = {DF_between}\")\n",
    "print(f\"DF within = {DF_within}\")\n",
    "print(f\"DF total = {DF_total}\")"
   ]
  },
  {
   "cell_type": "markdown",
   "metadata": {},
   "source": [
    "Now we have calculated all Degrees of Freedom:\n",
    "\n",
    "| Source of Variation | Sum of Squares | Degrees of Freedom | Mean Squares | F-value |\n",
    "| :-: | :-: | :-: | :-: | :-: |\n",
    "| Between groups | 2426.43 | 2 | MS<sub>between</sub> |  |\n",
    "| Within groups | 1025.78 | 57 | MS<sub>within</sub> |  |\n",
    "| Total | 3452.21 | 59 | MS<sub>total</sub> |  |\n"
   ]
  },
  {
   "cell_type": "markdown",
   "metadata": {},
   "source": [
    "### Mean Squares\n"
   ]
  },
  {
   "cell_type": "markdown",
   "metadata": {},
   "source": [
    "We divide Sum of Squares by degrees of freedom for both Between and Within rows.\n",
    "\n",
    "Mean Squares are calculated using the equation below:\n"
   ]
  },
  {
   "cell_type": "markdown",
   "metadata": {},
   "source": [
    "$$\\frac{\\text{Sum of Squares}}{\\text{Degrees of Freedom}}$$\n"
   ]
  },
  {
   "cell_type": "code",
   "execution_count": 53,
   "metadata": {},
   "outputs": [
    {
     "name": "stdout",
     "output_type": "stream",
     "text": [
      "MS between = 1213.217166666666\n",
      "MS within = 17.99605263157895\n"
     ]
    }
   ],
   "source": [
    "MS_between = SS_between / DF_between\n",
    "MS_within = SS_within / DF_within\n",
    "print(f\"MS between = {MS_between}\")\n",
    "print(f\"MS within = {MS_within}\")"
   ]
  },
  {
   "cell_type": "markdown",
   "metadata": {},
   "source": [
    "Now we have calculated all Degrees of Freedom:\n",
    "\n",
    "| Source of Variation | Sum of Squares | Degrees of Freedom | Mean Squares | F-value |\n",
    "| :-: | :-: | :-: | :-: | :-: |\n",
    "| Between groups | 2426.43 | 2 | 1213.22 |  |\n",
    "| Within groups | 1025.78 | 57 | 18.00 |  |\n",
    "| Total | 3452.21 | 59 |  |  |\n"
   ]
  },
  {
   "cell_type": "markdown",
   "metadata": {},
   "source": [
    "<h2>Explanation</h2>\n",
    "\n",
    "Let's have a closer look on MS<sub>within</sub> calculation:\n",
    "\n",
    "$$MS_\\text{within} = \\frac{\\text{Sum of Squares within groups}}{\\text{Degrees of freedom within groups}} = \\frac{\\sum (x_i - \\overline{x})^2}{(\\text{Total samples}-1)-(\\text{Number of groups} -1)}$$\n"
   ]
  },
  {
   "cell_type": "markdown",
   "metadata": {},
   "source": [
    "This is very close to the sample variance calculation:\n",
    "\n",
    "$$\\text{Sample Variance} = s^2 = \\frac{\\text{Sum of Squares}}{\\text{Degrees of freedom}} = \\frac{\\sum (x_i - \\overline{x})^2}{n-1}$$\n"
   ]
  },
  {
   "cell_type": "markdown",
   "metadata": {},
   "source": [
    "Generaly, MS<sub>between</sub> and MS<sub>within</sub> are both unique and different estimates of the population variance.\n",
    "\n",
    "MS<sub>within</sub> is an estimate of the population variance that's based on the variability within each treatment group.\n",
    "\n",
    "MS<sub>between</sub> is an estimate of the population variance that's based on the variability between the group sample means and the global mean.\n",
    "\n",
    "**Thus if our H<sub>0</sub> is true then these two estimates of the population variance should be approximately equal.**\n"
   ]
  },
  {
   "cell_type": "markdown",
   "metadata": {},
   "source": [
    "### F-value\n"
   ]
  },
  {
   "cell_type": "markdown",
   "metadata": {},
   "source": [
    "Now we compare $MS_\\text{between}$ and $MS_\\text{within}$ using the F-test.\n",
    "\n",
    "If the null hypothesis is true both $MS_\\text{between}$ and $MS_\\text{within}$ will approximate the population variance, and $MS_\\text{between} \\approx MS_\\text{within}$, and F-value will be $\\approx 1$.\n",
    "\n",
    "If the null hypothesis is false, and one or more sample groups are not equal to the other sample groups, then our F-value will be $\\gt 1$\n"
   ]
  },
  {
   "cell_type": "markdown",
   "metadata": {},
   "source": [
    "$$\\text{F-value} = \\frac{MST}{MSE}$$\n"
   ]
  },
  {
   "cell_type": "code",
   "execution_count": 54,
   "metadata": {},
   "outputs": [
    {
     "name": "stdout",
     "output_type": "stream",
     "text": [
      "F-value = 67.41573785674241\n"
     ]
    }
   ],
   "source": [
    "f_value = MS_between / MS_within\n",
    "print(f\"F-value = {f_value}\")"
   ]
  },
  {
   "cell_type": "markdown",
   "metadata": {},
   "source": [
    "The F-Test allows us to determine if our differences between $MS_\\text{between}$ and $MS_\\text{within}$ are due to chance or if they are statistically significant.\n",
    "\n",
    "We can calculate critical F-value (based on our alpha risk and degrees of freedom) and P-value, that represents the probability of getting that big of a difference between $MS_\\text{between}$ and $MS_\\text{within}$ (or bigger). This P-value can be compared to your alpha risk to make an accept/reject decision.\n"
   ]
  },
  {
   "cell_type": "code",
   "execution_count": 55,
   "metadata": {},
   "outputs": [
    {
     "name": "stdout",
     "output_type": "stream",
     "text": [
      "Critical value: 3.16, Value: 67.41573785674241, p_value: 0.000\n"
     ]
    },
    {
     "data": {
      "image/png": "[encoded data removed]",
      "text/plain": [
       "<Figure size 1000x500 with 1 Axes>"
      ]
     },
     "metadata": {},
     "output_type": "display_data"
    }
   ],
   "source": [
    "x = np.arange(0, 25, 0.001)\n",
    "critical_value = f.ppf(0.95, DF_between, DF_within)\n",
    "p_value = f.sf(f_value, DF_between, DF_within)\n",
    "print(f\"Critical value: {critical_value:.2f}, Value: {f_value}, p_value: {p_value:.3f}\")\n",
    "\n",
    "fig, ax = plt.subplots(1, 1, figsize=(10, 5))\n",
    "ax.plot(x, f.pdf(x, DF_between, DF_within))\n",
    "ax.axvline(f_value, color=\"red\")\n",
    "ax.set_xlim(0)\n",
    "ax.set_ylim(0)\n",
    "ax.set_title(f\"F-distribution for alpha 0.05, df {DF_between, DF_within}\")\n",
    "ax.fill_between(\n",
    "    x, f.pdf(x, DF_between, DF_within), where=x > critical_value, color=\"red\", alpha=0.5\n",
    ")\n",
    "plt.show()"
   ]
  },
  {
   "cell_type": "markdown",
   "metadata": {},
   "source": [
    "Here we see the great difference between our F-value and critical F-value. Thus we reject our H<sub>0</sub> hypothesis.\n"
   ]
  }
 ],
 "metadata": {
  "kernelspec": {
   "display_name": "Python 3",
   "language": "python",
   "name": "python3"
  },
  "language_info": {
   "codemirror_mode": {
    "name": "ipython",
    "version": 3
   },
   "file_extension": ".py",
   "mimetype": "text/x-python",
   "name": "python",
   "nbconvert_exporter": "python",
   "pygments_lexer": "ipython3",
   "version": "3.11.5"
  }
 },
 "nbformat": 4,
 "nbformat_minor": 2
}
