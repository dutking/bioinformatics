{
  "cells": [
    {
      "cell_type": "code",
      "execution_count": 5,
      "metadata": {
        "id": "NE9SuTcJdc4x"
      },
      "outputs": [],
      "source": [
        "import math\n",
        "import polars as pl\n",
        "import pandas as pd\n",
        "import numpy as np\n",
        "import statsmodels.formula.api as smf\n",
        "import statsmodels.api as sm\n",
        "import matplotlib.pyplot as plt\n",
        "import scipy.stats as stats\n",
        "from statsmodels.stats.multicomp import pairwise_tukeyhsd\n",
        "\n",
        "%matplotlib inline"
      ]
    },
    {
      "cell_type": "markdown",
      "metadata": {
        "id": "hm0etpMei4MU"
      },
      "source": [
        "#Problem\n",
        "\n",
        "[Article on multiple comparisons problem](https://www.graphpad.com/guides/prism/latest/statistics/beware_of_multiple_comparisons.htm)\n"
      ]
    },
    {
      "cell_type": "markdown",
      "metadata": {
        "id": "0z3yF6jis9Sh"
      },
      "source": [
        "<h1>Solutions</h1>\n",
        "\n",
        "-   One-way analysis of variance with ad hoc tests\n",
        "-   Multiple comparison adjustment\n"
      ]
    },
    {
      "cell_type": "markdown",
      "metadata": {
        "id": "HJ8BD2bktO7t"
      },
      "source": [
        "# Post hoc tests - Tukey’s Honestly Significant Difference (HSD)\n"
      ]
    },
    {
      "cell_type": "markdown",
      "metadata": {
        "id": "gyGrvI5VtR2F"
      },
      "source": [
        "-   An HSD is the minimum difference between two means that can be deemed statistically different, while keeping the experiment-wise alpha at 0.05.\n",
        "\n",
        "-   Any two means separated by this amount or greater are significantly different from each other.\n",
        "\n",
        "-   Any two means separated by less than this amount cannot be considered significantly different.\n"
      ]
    },
    {
      "cell_type": "markdown",
      "metadata": {
        "id": "mUV8a8EBt3je"
      },
      "source": [
        "## HSD calculation\n"
      ]
    },
    {
      "cell_type": "markdown",
      "metadata": {
        "id": "PyfwsGhb1rZb"
      },
      "source": [
        "$$HSD = q\\sqrt{\\frac{\\text{Mean Squares Within Groups}}{\\text{Harmonic Mean}}} = q\\sqrt{\\frac{MS_W}{n_H}}$$\n",
        "\n",
        "q - look up in a table based on df<sub>W</sub> and k. The harmonic mean is a geometric average of the number of subjects in each group.\n",
        "\n",
        "**Remember that this is a post hoc comparison, therefore we have already calculated MSW, computed the ANOVA and found a statistically significant F ratio.**\n"
      ]
    },
    {
      "cell_type": "markdown",
      "metadata": {
        "id": "mRpEhebeu32r"
      },
      "source": [
        "<h1>Calculating the Harmonic Mean<h1>\n",
        "\n",
        "$$n_H = \\frac{k}{(\\frac{1}{n_1} + \\frac{1}{n_2} + ... + \\frac{1}{n_k})}$$\n",
        "\n",
        "Notice that this technique allows different numbers of subjects in each group.\n"
      ]
    },
    {
      "cell_type": "markdown",
      "metadata": {
        "id": "FrANHokbvr5A"
      },
      "source": [
        "<h1>Example. Ethanol and minutes of REM sleep at rats</h1>\n",
        "\n",
        "Means:\n",
        "\n",
        "-   0 g/kg - 79.28 minutes\n",
        "-   1 g/kg - 61.54 minutes\n",
        "-   2 g/kg - 47.92 minutes\n",
        "-   3 g/kg - 32.76 minutes\n",
        "\n",
        "Mean square within groups: $$MS_W = 92.68$$\n",
        "\n",
        "Number of groups: $$k = 4$$\n",
        "\n",
        "Total number of samples: $$n = 20$$\n",
        "\n",
        "Degrees of freedom within groups: $$df_W = n-k = 20-4 = 16$$\n",
        "\n",
        "According to the [q table](https://real-statistics.com/statistics-tables/studentized-range-q-table/): $$q(\\alpha=0.05, df_W=16, k=4) = 4.046$$\n",
        "\n",
        "Harmonic mean: $$n_H = 5$$\n",
        "\n",
        "So:\n",
        "\n",
        "$$HSD = 4.046 \\sqrt{\\frac{92.68}{5}} = 17.42$$\n",
        "\n",
        "**Thus means as far or further apart than 17.42 represent a significant difference.**\n"
      ]
    },
    {
      "cell_type": "markdown",
      "metadata": {
        "id": "YPjjR6WRy4Uo"
      },
      "source": [
        "| Comparisons                | Difference | p <= |\n",
        "| -------------------------- | ---------- | ---- |\n",
        "| 0g/kg 79.28 -> 1g/kg 61.54 | 17.74      | 0.05 |\n",
        "| 0g/kg 79.28 -> 2g/kg 47.92 | 31.36      | 0.05 |\n",
        "| 0g/kg 79.28 -> 3g/kg 32.76 | 46.52      | 0.05 |\n",
        "| 1g/kg 61.54 -> 2g/kg 47.92 | 13.62      | n.s  |\n",
        "| 1g/kg 61.54 -> 3g/kg 47.92 | 28.78      | 0.05 |\n",
        "| 2g/kg 47.92 -> 3g/kg 32.76 | 15.16      | n.s  |\n"
      ]
    },
    {
      "cell_type": "markdown",
      "metadata": {
        "id": "GgUkCO1Vx29-"
      },
      "source": [
        "##Example calculation\n"
      ]
    },
    {
      "cell_type": "markdown",
      "metadata": {
        "id": "VmN9Keey3vm0"
      },
      "source": [
        "Given data:\n"
      ]
    },
    {
      "cell_type": "code",
      "execution_count": 6,
      "metadata": {
        "id": "t348A5oK2lo-"
      },
      "outputs": [],
      "source": [
        "df_w = 16\n",
        "q = 4.046\n",
        "n_harmonic = 5\n",
        "\n",
        "sleep_df = pl.DataFrame(\n",
        "    {\n",
        "        \"group\": [\n",
        "            *([\"0g/kg\"] * 5),\n",
        "            *([\"1g/kg\"] * 5),\n",
        "            *([\"2g/kg\"] * 5),\n",
        "            *([\"4g/kg\"] * 5),\n",
        "        ],\n",
        "        \"rem\": [\n",
        "            88.6,\n",
        "            73.2,\n",
        "            91.4,\n",
        "            68.0,\n",
        "            75.2,\n",
        "            63.0,\n",
        "            53.9,\n",
        "            69.2,\n",
        "            50.1,\n",
        "            71.5,\n",
        "            44.9,\n",
        "            59.5,\n",
        "            40.2,\n",
        "            56.3,\n",
        "            38.7,\n",
        "            31.0,\n",
        "            39.6,\n",
        "            45.3,\n",
        "            25.5,\n",
        "            22.7,\n",
        "        ],\n",
        "    }\n",
        ")"
      ]
    },
    {
      "cell_type": "markdown",
      "metadata": {
        "id": "dvXiza1F21AH"
      },
      "source": [
        "### Manually\n"
      ]
    },
    {
      "cell_type": "code",
      "execution_count": 7,
      "metadata": {
        "colab": {
          "base_uri": "https://localhost:8080/"
        },
        "id": "sDgNTcqsm16C",
        "outputId": "8e664c71-a840-409b-d2c7-91a5bd0d9601"
      },
      "outputs": [
        {
          "name": "stdout",
          "output_type": "stream",
          "text": [
            "shape: (20, 6)\n",
            "┌───────┬────────────┬──────┬──────────┬──────────┬─────────┐\n",
            "│ group ┆ group_mean ┆ rem  ┆ residual ┆ SSw      ┆ MSw     │\n",
            "│ ---   ┆ ---        ┆ ---  ┆ ---      ┆ ---      ┆ ---     │\n",
            "│ str   ┆ f64        ┆ f64  ┆ f64      ┆ f64      ┆ f64     │\n",
            "╞═══════╪════════════╪══════╪══════════╪══════════╪═════════╡\n",
            "│ 0g/kg ┆ 79.28      ┆ 88.6 ┆ 9.32     ┆ 1482.936 ┆ 92.6835 │\n",
            "│ 0g/kg ┆ 79.28      ┆ 73.2 ┆ -6.08    ┆ 1482.936 ┆ 92.6835 │\n",
            "│ 0g/kg ┆ 79.28      ┆ 91.4 ┆ 12.12    ┆ 1482.936 ┆ 92.6835 │\n",
            "│ 0g/kg ┆ 79.28      ┆ 68.0 ┆ -11.28   ┆ 1482.936 ┆ 92.6835 │\n",
            "│ …     ┆ …          ┆ …    ┆ …        ┆ …        ┆ …       │\n",
            "│ 4g/kg ┆ 32.82      ┆ 39.6 ┆ 6.78     ┆ 1482.936 ┆ 92.6835 │\n",
            "│ 4g/kg ┆ 32.82      ┆ 45.3 ┆ 12.48    ┆ 1482.936 ┆ 92.6835 │\n",
            "│ 4g/kg ┆ 32.82      ┆ 25.5 ┆ -7.32    ┆ 1482.936 ┆ 92.6835 │\n",
            "│ 4g/kg ┆ 32.82      ┆ 22.7 ┆ -10.12   ┆ 1482.936 ┆ 92.6835 │\n",
            "└───────┴────────────┴──────┴──────────┴──────────┴─────────┘\n",
            "\n",
            "Mean square within groups = 92.68350000000001\n"
          ]
        }
      ],
      "source": [
        "mean_square_within_groups = (\n",
        "    sleep_df.group_by(\"group\")\n",
        "    .agg(\n",
        "        pl.col(\"rem\").mean().alias(\"group_mean\")\n",
        "    )  # here we calculate mean for each group\n",
        "    .join(sleep_df, on=\"group\")\n",
        "    .with_columns(\n",
        "        (pl.col(\"rem\") - pl.col(\"group_mean\")).alias(\"residual\")\n",
        "    )  # here we calculate residuals for each value\n",
        "    .with_columns(\n",
        "        (pl.col(\"residual\") ** 2).sum().alias(\"SSw\")\n",
        "    )  # here we get Sum of squares for each group\n",
        "    .with_columns((pl.col(\"SSw\") / df_w).alias(\"MSw\"))\n",
        ")  # here we calculate Mean square within groups\n",
        "\n",
        "\n",
        "print(mean_square_within_groups)\n",
        "MSw = mean_square_within_groups.select(pl.col(\"MSw\")).unique()[0].item()\n",
        "print(f\"\\nMean square within groups = {MSw}\")"
      ]
    },
    {
      "cell_type": "code",
      "execution_count": 8,
      "metadata": {
        "colab": {
          "base_uri": "https://localhost:8080/"
        },
        "id": "yyO-ITkUv780",
        "outputId": "489f2afa-8445-4da9-93a0-8bbe28451482"
      },
      "outputs": [
        {
          "name": "stdout",
          "output_type": "stream",
          "text": [
            "HSD is 17.419756865616698\n"
          ]
        }
      ],
      "source": [
        "HSD = q * math.sqrt(MSw / n_harmonic)\n",
        "print(f\"HSD is {HSD}\")"
      ]
    },
    {
      "cell_type": "markdown",
      "metadata": {
        "id": "VRIP1VHQ2LdW"
      },
      "source": [
        "Given this HSD value we can compare groups pairwise.\n",
        "\n",
        "| Comparisons                | Difference | p <= |\n",
        "| -------------------------- | ---------- | ---- |\n",
        "| 0g/kg 79.28 -> 1g/kg 61.54 | 17.74      | 0.05 |\n",
        "| 0g/kg 79.28 -> 2g/kg 47.92 | 31.36      | 0.05 |\n",
        "| 0g/kg 79.28 -> 3g/kg 32.76 | 46.52      | 0.05 |\n",
        "| 1g/kg 61.54 -> 2g/kg 47.92 | 13.62      | n.s  |\n",
        "| 1g/kg 61.54 -> 3g/kg 47.92 | 28.78      | 0.05 |\n",
        "| 2g/kg 47.92 -> 3g/kg 32.76 | 15.16      | n.s  |\n"
      ]
    },
    {
      "cell_type": "markdown",
      "metadata": {
        "id": "1tS6Cf6T24Wr"
      },
      "source": [
        "### Automatically\n"
      ]
    },
    {
      "cell_type": "markdown",
      "metadata": {
        "id": "wtxFIcQvzfCL"
      },
      "source": [
        "<h4>ANOVA</h4>\n",
        "Let's start with ANOVA test to check whether it is difference in means.\n",
        "\n",
        "H<sub>0</sub>: There is no difference among group means.\n",
        "\n",
        "H<sub>1</sub>: Means are not all equal.\n",
        "\n",
        "<h4>Approach 1</h4>\n"
      ]
    },
    {
      "cell_type": "code",
      "execution_count": 9,
      "metadata": {
        "colab": {
          "base_uri": "https://localhost:8080/",
          "height": 161
        },
        "id": "eBd6gUbl7FzB",
        "outputId": "71a301db-22f5-4331-d370-ee82ecbd8772"
      },
      "outputs": [
        {
          "data": {
            "text/html": [
              "<div><style>\n",
              ".dataframe > thead > tr,\n",
              ".dataframe > tbody > tr {\n",
              "  text-align: right;\n",
              "  white-space: pre-wrap;\n",
              "}\n",
              "</style>\n",
              "<small>shape: (2, 5)</small><table border=\"1\" class=\"dataframe\"><thead><tr><th>df</th><th>sum_sq</th><th>mean_sq</th><th>F</th><th>PR(&gt;F)</th></tr><tr><td>f64</td><td>f64</td><td>f64</td><td>f64</td><td>f64</td></tr></thead><tbody><tr><td>3.0</td><td>5868.802</td><td>1956.267333</td><td>21.106964</td><td>0.000008</td></tr><tr><td>16.0</td><td>1482.936</td><td>92.6835</td><td>null</td><td>null</td></tr></tbody></table></div>"
            ],
            "text/plain": [
              "shape: (2, 5)\n",
              "┌──────┬──────────┬─────────────┬───────────┬──────────┐\n",
              "│ df   ┆ sum_sq   ┆ mean_sq     ┆ F         ┆ PR(>F)   │\n",
              "│ ---  ┆ ---      ┆ ---         ┆ ---       ┆ ---      │\n",
              "│ f64  ┆ f64      ┆ f64         ┆ f64       ┆ f64      │\n",
              "╞══════╪══════════╪═════════════╪═══════════╪══════════╡\n",
              "│ 3.0  ┆ 5868.802 ┆ 1956.267333 ┆ 21.106964 ┆ 0.000008 │\n",
              "│ 16.0 ┆ 1482.936 ┆ 92.6835     ┆ null      ┆ null     │\n",
              "└──────┴──────────┴─────────────┴───────────┴──────────┘"
            ]
          },
          "execution_count": 9,
          "metadata": {},
          "output_type": "execute_result"
        }
      ],
      "source": [
        "model = smf.ols(\"rem ~ group\", data=sleep_df.to_pandas()).fit()\n",
        "anova_test = pl.DataFrame(sm.stats.anova_lm(model))\n",
        "anova_test"
      ]
    },
    {
      "cell_type": "markdown",
      "metadata": {
        "id": "KjGraDQIzrng"
      },
      "source": [
        "<h4>Approach 2</h4>\n",
        "\n",
        "Here we need to turn categorical data into one-hot-encoding manually.\n"
      ]
    },
    {
      "cell_type": "code",
      "execution_count": 17,
      "metadata": {},
      "outputs": [
        {
          "data": {
            "text/plain": [
              "[shape: (4,)\n",
              " Series: 'group' [str]\n",
              " [\n",
              " \t\"2g/kg\"\n",
              " \t\"1g/kg\"\n",
              " \t\"0g/kg\"\n",
              " \t\"4g/kg\"\n",
              " ]]"
            ]
          },
          "execution_count": 17,
          "metadata": {},
          "output_type": "execute_result"
        }
      ],
      "source": [
        "list(sleep_df.select(\"group\").unique())"
      ]
    },
    {
      "cell_type": "code",
      "execution_count": 25,
      "metadata": {
        "colab": {
          "base_uri": "https://localhost:8080/",
          "height": 550
        },
        "id": "XBCnexR7uUjx",
        "outputId": "f11b053c-2f88-4e7f-a9d0-1f095f19509f"
      },
      "outputs": [
        {
          "data": {
            "text/html": [
              "<table class=\"simpletable\">\n",
              "<caption>OLS Regression Results</caption>\n",
              "<tr>\n",
              "  <th>Dep. Variable:</th>           <td>rem</td>       <th>  R-squared:         </th> <td>   0.798</td>\n",
              "</tr>\n",
              "<tr>\n",
              "  <th>Model:</th>                   <td>OLS</td>       <th>  Adj. R-squared:    </th> <td>   0.760</td>\n",
              "</tr>\n",
              "<tr>\n",
              "  <th>Method:</th>             <td>Least Squares</td>  <th>  F-statistic:       </th> <td>   21.11</td>\n",
              "</tr>\n",
              "<tr>\n",
              "  <th>Date:</th>             <td>Tue, 09 Jan 2024</td> <th>  Prob (F-statistic):</th> <td>8.29e-06</td>\n",
              "</tr>\n",
              "<tr>\n",
              "  <th>Time:</th>                 <td>16:17:08</td>     <th>  Log-Likelihood:    </th> <td> -71.439</td>\n",
              "</tr>\n",
              "<tr>\n",
              "  <th>No. Observations:</th>      <td>    20</td>      <th>  AIC:               </th> <td>   150.9</td>\n",
              "</tr>\n",
              "<tr>\n",
              "  <th>Df Residuals:</th>          <td>    16</td>      <th>  BIC:               </th> <td>   154.9</td>\n",
              "</tr>\n",
              "<tr>\n",
              "  <th>Df Model:</th>              <td>     3</td>      <th>                     </th>     <td> </td>   \n",
              "</tr>\n",
              "<tr>\n",
              "  <th>Covariance Type:</th>      <td>nonrobust</td>    <th>                     </th>     <td> </td>   \n",
              "</tr>\n",
              "</table>\n",
              "<table class=\"simpletable\">\n",
              "<tr>\n",
              "       <td></td>          <th>coef</th>     <th>std err</th>      <th>t</th>      <th>P>|t|</th>  <th>[0.025</th>    <th>0.975]</th>  \n",
              "</tr>\n",
              "<tr>\n",
              "  <th>const</th>       <td>   44.3120</td> <td>    1.722</td> <td>   25.730</td> <td> 0.000</td> <td>   40.661</td> <td>   47.963</td>\n",
              "</tr>\n",
              "<tr>\n",
              "  <th>group_0g/kg</th> <td>   34.9680</td> <td>    3.753</td> <td>    9.316</td> <td> 0.000</td> <td>   27.011</td> <td>   42.925</td>\n",
              "</tr>\n",
              "<tr>\n",
              "  <th>group_1g/kg</th> <td>   17.2280</td> <td>    3.753</td> <td>    4.590</td> <td> 0.000</td> <td>    9.271</td> <td>   25.185</td>\n",
              "</tr>\n",
              "<tr>\n",
              "  <th>group_2g/kg</th> <td>    3.6080</td> <td>    3.753</td> <td>    0.961</td> <td> 0.351</td> <td>   -4.349</td> <td>   11.565</td>\n",
              "</tr>\n",
              "<tr>\n",
              "  <th>group_4g/kg</th> <td>  -11.4920</td> <td>    3.753</td> <td>   -3.062</td> <td> 0.007</td> <td>  -19.449</td> <td>   -3.535</td>\n",
              "</tr>\n",
              "</table>\n",
              "<table class=\"simpletable\">\n",
              "<tr>\n",
              "  <th>Omnibus:</th>       <td>11.382</td> <th>  Durbin-Watson:     </th> <td>   2.847</td>\n",
              "</tr>\n",
              "<tr>\n",
              "  <th>Prob(Omnibus):</th> <td> 0.003</td> <th>  Jarque-Bera (JB):  </th> <td>   2.211</td>\n",
              "</tr>\n",
              "<tr>\n",
              "  <th>Skew:</th>          <td> 0.161</td> <th>  Prob(JB):          </th> <td>   0.331</td>\n",
              "</tr>\n",
              "<tr>\n",
              "  <th>Kurtosis:</th>      <td> 1.403</td> <th>  Cond. No.          </th> <td>1.53e+16</td>\n",
              "</tr>\n",
              "</table><br/><br/>Notes:<br/>[1] Standard Errors assume that the covariance matrix of the errors is correctly specified.<br/>[2] The smallest eigenvalue is 1.07e-31. This might indicate that there are<br/>strong multicollinearity problems or that the design matrix is singular."
            ],
            "text/latex": [
              "\\begin{center}\n",
              "\\begin{tabular}{lclc}\n",
              "\\toprule\n",
              "\\textbf{Dep. Variable:}    &       rem        & \\textbf{  R-squared:         } &     0.798   \\\\\n",
              "\\textbf{Model:}            &       OLS        & \\textbf{  Adj. R-squared:    } &     0.760   \\\\\n",
              "\\textbf{Method:}           &  Least Squares   & \\textbf{  F-statistic:       } &     21.11   \\\\\n",
              "\\textbf{Date:}             & Tue, 09 Jan 2024 & \\textbf{  Prob (F-statistic):} &  8.29e-06   \\\\\n",
              "\\textbf{Time:}             &     16:17:08     & \\textbf{  Log-Likelihood:    } &   -71.439   \\\\\n",
              "\\textbf{No. Observations:} &          20      & \\textbf{  AIC:               } &     150.9   \\\\\n",
              "\\textbf{Df Residuals:}     &          16      & \\textbf{  BIC:               } &     154.9   \\\\\n",
              "\\textbf{Df Model:}         &           3      & \\textbf{                     } &             \\\\\n",
              "\\textbf{Covariance Type:}  &    nonrobust     & \\textbf{                     } &             \\\\\n",
              "\\bottomrule\n",
              "\\end{tabular}\n",
              "\\begin{tabular}{lcccccc}\n",
              "                      & \\textbf{coef} & \\textbf{std err} & \\textbf{t} & \\textbf{P$> |$t$|$} & \\textbf{[0.025} & \\textbf{0.975]}  \\\\\n",
              "\\midrule\n",
              "\\textbf{const}        &      44.3120  &        1.722     &    25.730  &         0.000        &       40.661    &       47.963     \\\\\n",
              "\\textbf{group\\_0g/kg} &      34.9680  &        3.753     &     9.316  &         0.000        &       27.011    &       42.925     \\\\\n",
              "\\textbf{group\\_1g/kg} &      17.2280  &        3.753     &     4.590  &         0.000        &        9.271    &       25.185     \\\\\n",
              "\\textbf{group\\_2g/kg} &       3.6080  &        3.753     &     0.961  &         0.351        &       -4.349    &       11.565     \\\\\n",
              "\\textbf{group\\_4g/kg} &     -11.4920  &        3.753     &    -3.062  &         0.007        &      -19.449    &       -3.535     \\\\\n",
              "\\bottomrule\n",
              "\\end{tabular}\n",
              "\\begin{tabular}{lclc}\n",
              "\\textbf{Omnibus:}       & 11.382 & \\textbf{  Durbin-Watson:     } &    2.847  \\\\\n",
              "\\textbf{Prob(Omnibus):} &  0.003 & \\textbf{  Jarque-Bera (JB):  } &    2.211  \\\\\n",
              "\\textbf{Skew:}          &  0.161 & \\textbf{  Prob(JB):          } &    0.331  \\\\\n",
              "\\textbf{Kurtosis:}      &  1.403 & \\textbf{  Cond. No.          } & 1.53e+16  \\\\\n",
              "\\bottomrule\n",
              "\\end{tabular}\n",
              "%\\caption{OLS Regression Results}\n",
              "\\end{center}\n",
              "\n",
              "Notes: \\newline\n",
              " [1] Standard Errors assume that the covariance matrix of the errors is correctly specified. \\newline\n",
              " [2] The smallest eigenvalue is 1.07e-31. This might indicate that there are \\newline\n",
              " strong multicollinearity problems or that the design matrix is singular."
            ],
            "text/plain": [
              "<class 'statsmodels.iolib.summary.Summary'>\n",
              "\"\"\"\n",
              "                            OLS Regression Results                            \n",
              "==============================================================================\n",
              "Dep. Variable:                    rem   R-squared:                       0.798\n",
              "Model:                            OLS   Adj. R-squared:                  0.760\n",
              "Method:                 Least Squares   F-statistic:                     21.11\n",
              "Date:                Tue, 09 Jan 2024   Prob (F-statistic):           8.29e-06\n",
              "Time:                        16:17:08   Log-Likelihood:                -71.439\n",
              "No. Observations:                  20   AIC:                             150.9\n",
              "Df Residuals:                      16   BIC:                             154.9\n",
              "Df Model:                           3                                         \n",
              "Covariance Type:            nonrobust                                         \n",
              "===============================================================================\n",
              "                  coef    std err          t      P>|t|      [0.025      0.975]\n",
              "-------------------------------------------------------------------------------\n",
              "const          44.3120      1.722     25.730      0.000      40.661      47.963\n",
              "group_0g/kg    34.9680      3.753      9.316      0.000      27.011      42.925\n",
              "group_1g/kg    17.2280      3.753      4.590      0.000       9.271      25.185\n",
              "group_2g/kg     3.6080      3.753      0.961      0.351      -4.349      11.565\n",
              "group_4g/kg   -11.4920      3.753     -3.062      0.007     -19.449      -3.535\n",
              "==============================================================================\n",
              "Omnibus:                       11.382   Durbin-Watson:                   2.847\n",
              "Prob(Omnibus):                  0.003   Jarque-Bera (JB):                2.211\n",
              "Skew:                           0.161   Prob(JB):                        0.331\n",
              "Kurtosis:                       1.403   Cond. No.                     1.53e+16\n",
              "==============================================================================\n",
              "\n",
              "Notes:\n",
              "[1] Standard Errors assume that the covariance matrix of the errors is correctly specified.\n",
              "[2] The smallest eigenvalue is 1.07e-31. This might indicate that there are\n",
              "strong multicollinearity problems or that the design matrix is singular.\n",
              "\"\"\""
            ]
          },
          "execution_count": 25,
          "metadata": {},
          "output_type": "execute_result"
        }
      ],
      "source": [
        "# turning groups to one-hot-encoding format\n",
        "ohe_df = sleep_df.to_dummies(columns=[\"group\"])\n",
        "\n",
        "# here REM is dependent variable\n",
        "Y = ohe_df.select(pl.col(\"rem\")).to_pandas()\n",
        "\n",
        "# groups are independent variables\n",
        "X = ohe_df.select(\n",
        "    [col for col in ohe_df.columns if col.startswith(\"group_\")]\n",
        ").to_pandas()\n",
        "X = sm.add_constant(X)\n",
        "\n",
        "model = sm.OLS(Y, X)\n",
        "results = model.fit()\n",
        "results.summary()"
      ]
    },
    {
      "cell_type": "markdown",
      "metadata": {
        "id": "G_J9vtKh0Vo3"
      },
      "source": [
        "Both approaches present the same result - we can reject our null hypothesis.\n"
      ]
    },
    {
      "cell_type": "code",
      "execution_count": null,
      "metadata": {
        "colab": {
          "base_uri": "https://localhost:8080/",
          "height": 486
        },
        "id": "iJ0SBxSm6YPr",
        "outputId": "308ec6e1-a8f9-47c8-956e-a299bbb67e74"
      },
      "outputs": [
        {
          "name": "stdout",
          "output_type": "stream",
          "text": [
            "Critical value: 3.24, Value: 21.11, p_value: 0.000\n"
          ]
        },
        {
          "data": {
            "image/png": "[encoded data removed]",
            "text/plain": [
              "<Figure size 1000x500 with 1 Axes>"
            ]
          },
          "metadata": {},
          "output_type": "display_data"
        }
      ],
      "source": [
        "f_statistic = 21.11\n",
        "dfn, dfd = 3, 16  # degrees of freedom between and inside\n",
        "x = np.arange(0, 25, 0.001)\n",
        "critical_value = stats.f.ppf(0.95, dfn, dfd)\n",
        "p_value = stats.f.sf(f_statistic, dfn, dfd)\n",
        "print(\n",
        "    f\"Critical value: {critical_value:.2f}, Value: {f_statistic}, p_value: {p_value:.3f}\"\n",
        ")\n",
        "\n",
        "fig, ax = plt.subplots(1, 1, figsize=(10, 5))\n",
        "ax.plot(x, stats.f.pdf(x, dfn, dfd))\n",
        "ax.axvline(f_statistic, color=\"red\")\n",
        "ax.set_xlim(0)\n",
        "ax.set_ylim(0)\n",
        "ax.set_title(f\"F-distribution for alpha 0.05, df {dfn, dfd}\")\n",
        "ax.fill_between(\n",
        "    x, stats.f.pdf(x, dfn, dfd), where=x > critical_value, color=\"red\", alpha=0.5\n",
        ")\n",
        "plt.show()"
      ]
    },
    {
      "cell_type": "markdown",
      "metadata": {
        "id": "ncGkaxSO0a0p"
      },
      "source": [
        "<h4>Tukey HSD test</h4>\n",
        "\n",
        "Now we proceed with post-hoc Tukey HSD test.\n",
        "\n",
        "H<sub>0</sub>: The means of the groups are equal.\n",
        "\n",
        "H<sub>1</sub>: The means of the groups are **not** equal.\n"
      ]
    },
    {
      "cell_type": "code",
      "execution_count": null,
      "metadata": {
        "colab": {
          "base_uri": "https://localhost:8080/",
          "height": 186
        },
        "id": "I55fFuY0ty0j",
        "outputId": "b59df129-e5e3-4313-e707-074e7b6a8901"
      },
      "outputs": [
        {
          "data": {
            "text/html": [
              "<table class=\"simpletable\">\n",
              "<caption>Multiple Comparison of Means - Tukey HSD, FWER=0.05</caption>\n",
              "<tr>\n",
              "  <th>group1</th> <th>group2</th> <th>meandiff</th>  <th>p-adj</th>   <th>lower</th>    <th>upper</th>  <th>reject</th>\n",
              "</tr>\n",
              "<tr>\n",
              "   <td>0g/kg</td>  <td>1g/kg</td>  <td>-17.74</td>  <td>0.0452</td> <td>-35.1602</td>  <td>-0.3198</td>  <td>True</td> \n",
              "</tr>\n",
              "<tr>\n",
              "   <td>0g/kg</td>  <td>2g/kg</td>  <td>-31.36</td>  <td>0.0005</td> <td>-48.7802</td> <td>-13.9398</td>  <td>True</td> \n",
              "</tr>\n",
              "<tr>\n",
              "   <td>0g/kg</td>  <td>4g/kg</td>  <td>-46.46</td>    <td>0.0</td>  <td>-63.8802</td> <td>-29.0398</td>  <td>True</td> \n",
              "</tr>\n",
              "<tr>\n",
              "   <td>1g/kg</td>  <td>2g/kg</td>  <td>-13.62</td>  <td>0.1555</td> <td>-31.0402</td>  <td>3.8002</td>   <td>False</td>\n",
              "</tr>\n",
              "<tr>\n",
              "   <td>1g/kg</td>  <td>4g/kg</td>  <td>-28.72</td>  <td>0.0012</td> <td>-46.1402</td> <td>-11.2998</td>  <td>True</td> \n",
              "</tr>\n",
              "<tr>\n",
              "   <td>2g/kg</td>  <td>4g/kg</td>   <td>-15.1</td>  <td>0.1017</td> <td>-32.5202</td>  <td>2.3202</td>   <td>False</td>\n",
              "</tr>\n",
              "</table>"
            ],
            "text/latex": [
              "\\begin{center}\n",
              "\\begin{tabular}{ccccccc}\n",
              "\\toprule\n",
              "\\textbf{group1} & \\textbf{group2} & \\textbf{meandiff} & \\textbf{p-adj} & \\textbf{lower} & \\textbf{upper} & \\textbf{reject}  \\\\\n",
              "\\midrule\n",
              "     0g/kg      &      1g/kg      &       -17.74      &     0.0452     &    -35.1602    &    -0.3198     &       True       \\\\\n",
              "     0g/kg      &      2g/kg      &       -31.36      &     0.0005     &    -48.7802    &    -13.9398    &       True       \\\\\n",
              "     0g/kg      &      4g/kg      &       -46.46      &      0.0       &    -63.8802    &    -29.0398    &       True       \\\\\n",
              "     1g/kg      &      2g/kg      &       -13.62      &     0.1555     &    -31.0402    &     3.8002     &      False       \\\\\n",
              "     1g/kg      &      4g/kg      &       -28.72      &     0.0012     &    -46.1402    &    -11.2998    &       True       \\\\\n",
              "     2g/kg      &      4g/kg      &       -15.1       &     0.1017     &    -32.5202    &     2.3202     &      False       \\\\\n",
              "\\bottomrule\n",
              "\\end{tabular}\n",
              "%\\caption{Multiple Comparison of Means - Tukey HSD, FWER=0.05}\n",
              "\\end{center}"
            ],
            "text/plain": [
              "<class 'statsmodels.iolib.table.SimpleTable'>"
            ]
          },
          "execution_count": 159,
          "metadata": {},
          "output_type": "execute_result"
        }
      ],
      "source": [
        "tukey_test = pairwise_tukeyhsd(\n",
        "    sleep_df.select(pl.col(\"rem\")), sleep_df.select(pl.col(\"group\"))\n",
        ")\n",
        "tukey_test.summary()"
      ]
    },
    {
      "cell_type": "markdown",
      "metadata": {
        "id": "T-NtUSPc0r1F"
      },
      "source": [
        "Displayed table shows p-values of all the comparisons with conclusions about hypotheses.\n",
        "\n",
        "We can also display an interval plot.\n"
      ]
    },
    {
      "cell_type": "code",
      "execution_count": null,
      "metadata": {
        "colab": {
          "base_uri": "https://localhost:8080/",
          "height": 564
        },
        "id": "tSgTA4Sqyo_C",
        "outputId": "02e7481a-710b-4580-a6d4-d7feb0a8c9fb"
      },
      "outputs": [
        {
          "data": {
            "image/png": "[encoded data removed]",
            "text/plain": [
              "<Figure size 1000x600 with 1 Axes>"
            ]
          },
          "metadata": {},
          "output_type": "display_data"
        }
      ],
      "source": [
        "fig, ax = plt.subplots(figsize=(10, 7))\n",
        "tukey_test.plot_simultaneous(xlabel=f\"Minutes of rem\", ylabel=\"Groups\", ax=ax)\n",
        "plt.show()"
      ]
    },
    {
      "cell_type": "markdown",
      "metadata": {
        "id": "2yzAXKLT1y2C"
      },
      "source": [
        "# Multiple comparison adjustment. Controlling for false discovery rates (FDR).\n",
        "\n",
        "-   Bonferroni procedure - the most conservative\n",
        "\n",
        "-   The False Discovery Rate, FDR (Benjamini and Hochberg) - the most commonly used\n"
      ]
    },
    {
      "cell_type": "markdown",
      "metadata": {
        "id": "01KZm4WaXymF"
      },
      "source": [
        "<h2>Bonferroni procedure</h2>\n",
        "\n",
        "During _m_ independent statistic tests with $\\alpha$ significance level, the probability of at least one false discovery should be\n",
        "\n",
        "$$1 - (1-\\alpha)^m < 0.05$$\n",
        "\n",
        "$$\\alpha = (1-0.05)^\\frac{1}{m} \\approx \\frac{0.05}{m}$$\n",
        "\n",
        "**Bonferroni correction:**\n",
        "\n",
        "During _m_ independent statistic tests only those results are significant for which\n",
        "\n",
        "$$p < \\frac{0.05}{m}$$\n"
      ]
    },
    {
      "cell_type": "markdown",
      "metadata": {
        "id": "mZDkiUecZoRD"
      },
      "source": [
        "<h2>Algorithm of FDR control.</h2>\n",
        "\n",
        "1. Order tests by to p-value: $$p_1 < p_2 < … < p_m$$\n",
        "\n",
        "2. For FDR control on $\\alpha$ level (e.g. 0.05), we find $$j^* = max \\cases j: p_j \\le \\frac{j}{m}\\alpha $$\n",
        "\n",
        "3. Differences are assumed to be significant for $$j = 1, ..., j^*$$\n",
        "4. Differences are assumed not to be significant for $$j > j^*$$\n"
      ]
    },
    {
      "cell_type": "markdown",
      "metadata": {
        "id": "G-IxU_PRguCl"
      },
      "source": [
        "<h1>Example table. Multiple comparisons on 10 tests.</h1>\n"
      ]
    },
    {
      "cell_type": "code",
      "execution_count": null,
      "metadata": {
        "colab": {
          "base_uri": "https://localhost:8080/",
          "height": 412
        },
        "id": "k7ZXOlVEdNEB",
        "outputId": "6aad4191-9d48-469f-db6c-42c0084e8fc3"
      },
      "outputs": [
        {
          "data": {
            "text/html": [
              "<div><style>\n",
              ".dataframe > thead > tr > th,\n",
              ".dataframe > tbody > tr > td {\n",
              "  text-align: right;\n",
              "}\n",
              "</style>\n",
              "<small>shape: (10, 6)</small><table border=\"1\" class=\"dataframe\"><thead><tr><th>test_idx</th><th>p_value</th><th>bonferroni_threshold</th><th>fdr_threshold</th><th>bonferroni_significant</th><th>fdr_significant</th></tr><tr><td>i64</td><td>f64</td><td>f64</td><td>f64</td><td>str</td><td>str</td></tr></thead><tbody><tr><td>1</td><td>0.001</td><td>0.005</td><td>0.005</td><td>&quot;true&quot;</td><td>&quot;true&quot;</td></tr><tr><td>2</td><td>0.0055</td><td>0.005</td><td>0.01</td><td>&quot;false&quot;</td><td>&quot;true&quot;</td></tr><tr><td>3</td><td>0.01</td><td>0.005</td><td>0.015</td><td>&quot;false&quot;</td><td>&quot;true&quot;</td></tr><tr><td>4</td><td>0.015</td><td>0.005</td><td>0.02</td><td>&quot;false&quot;</td><td>&quot;true&quot;</td></tr><tr><td>5</td><td>0.02</td><td>0.005</td><td>0.025</td><td>&quot;false&quot;</td><td>&quot;true&quot;</td></tr><tr><td>6</td><td>0.04</td><td>0.005</td><td>0.03</td><td>&quot;false&quot;</td><td>&quot;false&quot;</td></tr><tr><td>7</td><td>0.3</td><td>0.005</td><td>0.035</td><td>&quot;false&quot;</td><td>&quot;false&quot;</td></tr><tr><td>8</td><td>0.5</td><td>0.005</td><td>0.04</td><td>&quot;false&quot;</td><td>&quot;false&quot;</td></tr><tr><td>9</td><td>0.6</td><td>0.005</td><td>0.045</td><td>&quot;false&quot;</td><td>&quot;false&quot;</td></tr><tr><td>10</td><td>0.8</td><td>0.005</td><td>0.05</td><td>&quot;false&quot;</td><td>&quot;false&quot;</td></tr></tbody></table></div>"
            ],
            "text/plain": [
              "shape: (10, 6)\n",
              "┌──────────┬─────────┬─────────────────────┬───────────────┬─────────────────────┬─────────────────┐\n",
              "│ test_idx ┆ p_value ┆ bonferroni_threshol ┆ fdr_threshold ┆ bonferroni_signific ┆ fdr_significant │\n",
              "│ ---      ┆ ---     ┆ d                   ┆ ---           ┆ ant                 ┆ ---             │\n",
              "│ i64      ┆ f64     ┆ ---                 ┆ f64           ┆ ---                 ┆ str             │\n",
              "│          ┆         ┆ f64                 ┆               ┆ str                 ┆                 │\n",
              "╞══════════╪═════════╪═════════════════════╪═══════════════╪═════════════════════╪═════════════════╡\n",
              "│ 1        ┆ 0.001   ┆ 0.005               ┆ 0.005         ┆ true                ┆ true            │\n",
              "│ 2        ┆ 0.0055  ┆ 0.005               ┆ 0.01          ┆ false               ┆ true            │\n",
              "│ 3        ┆ 0.01    ┆ 0.005               ┆ 0.015         ┆ false               ┆ true            │\n",
              "│ 4        ┆ 0.015   ┆ 0.005               ┆ 0.02          ┆ false               ┆ true            │\n",
              "│ …        ┆ …       ┆ …                   ┆ …             ┆ …                   ┆ …               │\n",
              "│ 7        ┆ 0.3     ┆ 0.005               ┆ 0.035         ┆ false               ┆ false           │\n",
              "│ 8        ┆ 0.5     ┆ 0.005               ┆ 0.04          ┆ false               ┆ false           │\n",
              "│ 9        ┆ 0.6     ┆ 0.005               ┆ 0.045         ┆ false               ┆ false           │\n",
              "│ 10       ┆ 0.8     ┆ 0.005               ┆ 0.05          ┆ false               ┆ false           │\n",
              "└──────────┴─────────┴─────────────────────┴───────────────┴─────────────────────┴─────────────────┘"
            ]
          },
          "execution_count": 22,
          "metadata": {},
          "output_type": "execute_result"
        }
      ],
      "source": [
        "alpha = 0.05\n",
        "tests_num = 10\n",
        "bonferroni_threshold = alpha / tests_num\n",
        "\n",
        "mc_table = pl.DataFrame(\n",
        "    {\n",
        "        \"test_idx\": np.arange(1, 11),\n",
        "        \"p_value\": [0.001, 0.0055, 0.01, 0.015, 0.02, 0.04, 0.3, 0.5, 0.6, 0.8],\n",
        "        \"bonferroni_threshold\": np.full(10, bonferroni_threshold),\n",
        "    }\n",
        ")\n",
        "mc_table = mc_table.with_columns(\n",
        "    (pl.col(\"test_idx\") * alpha / tests_num).alias(\"fdr_threshold\")\n",
        ")\n",
        "# here we compare p_values with bonferroni and fdr thresholds\n",
        "mc_table = mc_table.with_columns(\n",
        "    pl.when(pl.col(\"p_value\") > pl.col(\"bonferroni_threshold\"))\n",
        "    .then(\"false\")\n",
        "    .otherwise(\"true\")\n",
        "    .alias(\"bonferroni_significant\")\n",
        ")\n",
        "mc_table = mc_table.with_columns(\n",
        "    pl.when(pl.col(\"p_value\") > pl.col(\"fdr_threshold\"))\n",
        "    .then(\"false\")\n",
        "    .otherwise(\"true\")\n",
        "    .alias(\"fdr_significant\")\n",
        ")\n",
        "\n",
        "mc_table"
      ]
    }
  ],
  "metadata": {
    "colab": {
      "provenance": [],
      "toc_visible": true
    },
    "kernelspec": {
      "display_name": "Python 3",
      "name": "python3"
    },
    "language_info": {
      "codemirror_mode": {
        "name": "ipython",
        "version": 3
      },
      "file_extension": ".py",
      "mimetype": "text/x-python",
      "name": "python",
      "nbconvert_exporter": "python",
      "pygments_lexer": "ipython3",
      "version": "3.11.5"
    }
  },
  "nbformat": 4,
  "nbformat_minor": 0
}
